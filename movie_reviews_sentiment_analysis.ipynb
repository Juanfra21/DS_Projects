{
 "cells": [
  {
   "cell_type": "markdown",
   "id": "f93ce4a7-cfdc-4b1b-a284-dfe1b57342b9",
   "metadata": {},
   "source": [
    "# Sentiment Analysis of Movie Reviews Using Machine Learning"
   ]
  },
  {
   "cell_type": "markdown",
   "id": "3a93c884-6a77-400a-a37b-84868eab1f0b",
   "metadata": {},
   "source": [
    "# Introduction"
   ]
  },
  {
   "cell_type": "markdown",
   "id": "46c844e2-6cde-4e77-a41a-64240fded8df",
   "metadata": {},
   "source": [
    "Sentiment analysis, the process of determining the emotional tone or sentiment behind a piece of text, has become increasingly important in various domains, including product reviews, social media analysis, and market research. In this project, we aim to build a sentiment analysis model using machine learning techniques to classify movie reviews as either positive or negative.\n",
    "\n",
    "The dataset we will be working with consists of a collection of movie reviews, divided into two categories: positive reviews and negative reviews. Our goal is to preprocess the text data, extract relevant features, train a machine learning model, and evaluate its performance in accurately classifying new, unseen reviews.\n",
    "\n",
    "By leveraging the power of natural language processing and machine learning algorithms, we hope to develop a model that can effectively capture the underlying sentiment expressed in movie reviews. This could have practical applications in various scenarios, such as recommending movies to users based on their preferences, analyzing public opinion about a particular film, or even improving the recommendation systems of online movie platforms.\n",
    "\n",
    "Throughout this project, we will explore the entire pipeline of a sentiment analysis task, from data acquisition and preprocessing to model training, evaluation, and interpretation of results. Along the way, we will also discuss the challenges and limitations of our approach and potential areas for improvement."
   ]
  },
  {
   "cell_type": "markdown",
   "id": "b937341b-f8d1-4ef2-9874-e0be8f41acff",
   "metadata": {},
   "source": [
    "# Data Preparation"
   ]
  },
  {
   "cell_type": "markdown",
   "id": "4b73c80c-b6b5-459f-bfcc-a67cc0a5c847",
   "metadata": {},
   "source": [
    "## Data Loading"
   ]
  },
  {
   "cell_type": "markdown",
   "id": "e426463b-dc0f-4110-89d9-4825803a29ba",
   "metadata": {},
   "source": [
    "We will load the data from our GitHub repository. This process might take a while, as we are reading all 2000 file names and movie reviews from the GitHub repository."
   ]
  },
  {
   "cell_type": "code",
   "execution_count": 1,
   "id": "0f36184d-8ec1-42e2-934d-c54c34b475c6",
   "metadata": {
    "tags": []
   },
   "outputs": [],
   "source": [
    "import requests\n",
    "import json\n",
    "import pandas as pd\n",
    "from bs4 import BeautifulSoup\n",
    "\n",
    "# URL of the directories\n",
    "neg_url = \"https://github.com/Juanfra21/data-science/tree/main/sentiment-analysis/neg\"\n",
    "pos_url = \"https://github.com/Juanfra21/data-science/tree/main/sentiment-analysis/pos\"\n",
    "\n",
    "# Get response from github\n",
    "neg_response = requests.get(neg_url)\n",
    "pos_response = requests.get(pos_url)\n",
    "\n",
    "# Retrieve HTML\n",
    "neg_soup = BeautifulSoup(neg_response.text, \"html.parser\")\n",
    "pos_soup = BeautifulSoup(pos_response.text, \"html.parser\")\n",
    "\n",
    "# Find the turbo-frame containing the JSON data\n",
    "neg_turbo_frame = neg_soup.find(\"turbo-frame\", id=\"repo-content-turbo-frame\")\n",
    "pos_turbo_frame = pos_soup.find(\"turbo-frame\", id=\"repo-content-turbo-frame\")\n",
    "\n",
    "# Extract the JSON data from the turbo-frame\n",
    "neg_json_data = json.loads(neg_turbo_frame.div.script.string)\n",
    "pos_json_data = json.loads(pos_turbo_frame.div.script.string)\n",
    "\n",
    "# Store file names\n",
    "neg_file_names = pd.json_normalize(neg_json_data[\"payload\"][\"tree\"][\"items\"])[\"name\"].values\n",
    "pos_file_names = pd.json_normalize(pos_json_data[\"payload\"][\"tree\"][\"items\"])[\"name\"].values\n",
    "\n",
    "# Create the lists where we will store the reviews\n",
    "neg_reviews = []\n",
    "pos_reviews = []\n",
    "\n",
    "for neg_name,pos_name in zip(neg_file_names,pos_file_names):\n",
    "    # Define the URL for the review\n",
    "    neg_url = \"https://raw.githubusercontent.com/Juanfra21/data-science/main/sentiment-analysis/neg/\" + neg_name\n",
    "    pos_url = \"https://raw.githubusercontent.com/Juanfra21/data-science/main/sentiment-analysis/pos/\" + pos_name\n",
    "    \n",
    "    # Store negative reviews\n",
    "    neg_req = requests.get(neg_url)\n",
    "    neg_req = neg_req.text\n",
    "    neg_reviews.append(neg_req)\n",
    "    \n",
    "    # Store positive reviews\n",
    "    pos_req = requests.get(pos_url)\n",
    "    pos_req = pos_req.text\n",
    "    pos_reviews.append(pos_req)"
   ]
  },
  {
   "cell_type": "markdown",
   "id": "749e3cc4-14f4-4d7c-bda1-fac4791c52fd",
   "metadata": {},
   "source": [
    "## Text Pre-Processing"
   ]
  },
  {
   "cell_type": "markdown",
   "id": "bc9da301-5954-4099-a213-0d626cf2860e",
   "metadata": {},
   "source": [
    "We will now preprocess the reviews. To start, we import the necessary packages."
   ]
  },
  {
   "cell_type": "code",
   "execution_count": 2,
   "id": "875b44a3-d634-4864-a634-d1e5ff40f571",
   "metadata": {
    "tags": []
   },
   "outputs": [
    {
     "name": "stderr",
     "output_type": "stream",
     "text": [
      "[nltk_data] Downloading package stopwords to\n",
      "[nltk_data]     C:\\Users\\Leonh\\AppData\\Roaming\\nltk_data...\n",
      "[nltk_data]   Package stopwords is already up-to-date!\n",
      "[nltk_data] Downloading package punkt to\n",
      "[nltk_data]     C:\\Users\\Leonh\\AppData\\Roaming\\nltk_data...\n",
      "[nltk_data]   Package punkt is already up-to-date!\n"
     ]
    },
    {
     "data": {
      "text/plain": [
       "True"
      ]
     },
     "execution_count": 2,
     "metadata": {},
     "output_type": "execute_result"
    }
   ],
   "source": [
    "# Import and download necessary libraries for text pre-processing\n",
    "import nltk\n",
    "from nltk.corpus import stopwords\n",
    "import string\n",
    "nltk.download('stopwords')\n",
    "nltk.download('punkt')"
   ]
  },
  {
   "cell_type": "markdown",
   "id": "221f7c36-1ff9-4c96-bd21-edea30517109",
   "metadata": {},
   "source": [
    "Now, we will create a function for our text pre-processing pipeline, which will do the following:\n",
    "\n",
    "1. Tokenize the movie reviews.\n",
    "2. Remove all punctuation within the reviews.\n",
    "3. Lowercase the reviews.\n",
    "4. Remove stop words.\n",
    "5. Remove all tokens with less than 2 characters."
   ]
  },
  {
   "cell_type": "code",
   "execution_count": 3,
   "id": "806059e9-5c33-4ac1-8f70-635dedd20a1c",
   "metadata": {
    "tags": []
   },
   "outputs": [],
   "source": [
    "# Define english stop words\n",
    "stop_words = stopwords.words('english')\n",
    "\n",
    "# Define function to remove punctuation\n",
    "translator = str.maketrans('', '', string.punctuation)\n",
    "\n",
    "def preprocess_text(text):    \n",
    "    # Tokenize\n",
    "    text = nltk.word_tokenize(text)\n",
    "    \n",
    "    # Remove punctuation\n",
    "    text = [token.translate(translator) for token in text]\n",
    "    \n",
    "    # Lowercase\n",
    "    text = [token.lower() for token in text]\n",
    "    \n",
    "    # Remove stop words\n",
    "    text = [token for token in text if token not in stop_words]\n",
    "    \n",
    "    # Remove tokens with less than 2 characters\n",
    "    text = [token for token in text if len(token) >= 3]\n",
    "    \n",
    "    return text"
   ]
  },
  {
   "cell_type": "markdown",
   "id": "f4f9da0f-0b5b-420f-82ef-6b270a79d0e0",
   "metadata": {},
   "source": [
    "Now, we will create the lists where we will store the preprocessed reviews and then apply the function."
   ]
  },
  {
   "cell_type": "code",
   "execution_count": 4,
   "id": "76b2e216-ac37-46fb-8ee8-8111d6dcc034",
   "metadata": {
    "tags": []
   },
   "outputs": [],
   "source": [
    "preprocessed_pos_reviews = []\n",
    "preprocessed_neg_reviews = []\n",
    "\n",
    "preprocessed_pos_reviews = [preprocess_text(review) for review in pos_reviews]\n",
    "preprocessed_neg_reviews = [preprocess_text(review) for review in neg_reviews]"
   ]
  },
  {
   "cell_type": "markdown",
   "id": "1a618b29-103b-41a6-8c51-0ce6467d33f5",
   "metadata": {},
   "source": [
    "Let's see a before vs after example:"
   ]
  },
  {
   "cell_type": "code",
   "execution_count": 5,
   "id": "ddbcfaf9-95e3-4f03-ac83-ac6fa86d0304",
   "metadata": {
    "tags": []
   },
   "outputs": [
    {
     "name": "stdout",
     "output_type": "stream",
     "text": [
      "a fully loaded entertainment review - website coming in july ! \n",
      ">from ace ventura to truman burbank , jim carrey has run the whole gamut of comic , yet sympathetic , characters . \n",
      "1996's the cable guy was supposed to be his big \" breakthrough \" role from zany humor into darker , more dramatic acting . \n",
      "as most everyone knows , the results were , well , less-than-stellar . \n",
      "not only did the film not do so hot at the box office , but it was also panned by critics . \n",
      "as far as i know , gene siskel and i are the only ones willing to admit that we dug it . \n",
      "the first time i saw the cable guy , in theatres , i was in super critic-mode , and didn't really like it . \n",
      "however , due to the fact that hbo shows the movie every single day , i've had time to lean back , relax , and take in the film . \n",
      "and to my surprise , it grew on me . \n",
      "the plot is rather simple : broderick plays a guy named steven who befriends his cable guy , played by carrey , then is stalked by him when steven tries to break off the relationship . \n",
      "see , steven's been having some problems with his girlfriend , robin ( leslie mann ) , and he doesn't think he has any more room in his life for a new friend . \n",
      "also , some of the cable guy's antics have been creeping him out . \n",
      "carrey , as the cable guy , gives steven various aliases , which later we find out are all tv characters : larry tate , chip douglas , ricky ricardo , etc . he apparently lives in his cable van , and while many critics didn't enjoy this newer , darker , less-manic performance from carrey , i thought it was interesting and rather well-done . \n",
      "for me , its not the movie as a whole that's enjoyable , but rather several individual scenes : a karaoke jam at steven's apartment , a medieval fight at a theme restaurant , and a bathroom beating ( a la liar , liar ) , just to name a few . \n",
      "perhaps the fact that more of carrey's humorous side comes out during these scenes is what makes them so funny . \n",
      "and if you really want to see something , you've got to hear his version of jefferson airplane's \" somebody to love \" , sung at the aformentioned karaoke jam . \n",
      "the cable guy has its bad spots , like most any movie . \n",
      "i didn't particularly like steven's girlfriend , and i felt that more focus should have been used on the relationship between steven and his best friend . \n",
      "also , the ending , while having you fooled for a moment , is rather contrived , and somewhat dissapointing . \n",
      "still , i found the cable guy to be a worthwhile venture ; if you're at the video store and can't think of anything to rent , i suggest you try it out . \n",
      "or if you have hbo , just wait till it comes on ( you won't have to wait long . ) \n",
      "hell , that's what i do every day . \n",
      "\n"
     ]
    }
   ],
   "source": [
    "print(pos_reviews[22])"
   ]
  },
  {
   "cell_type": "code",
   "execution_count": 6,
   "id": "3470c3cb-5d50-4dad-bc72-b60415653526",
   "metadata": {
    "tags": []
   },
   "outputs": [
    {
     "name": "stdout",
     "output_type": "stream",
     "text": [
      "['fully', 'loaded', 'entertainment', 'review', 'website', 'coming', 'july', 'ace', 'ventura', 'truman', 'burbank', 'jim', 'carrey', 'run', 'whole', 'gamut', 'comic', 'yet', 'sympathetic', 'characters', '1996', 'cable', 'guy', 'supposed', 'big', 'breakthrough', 'role', 'zany', 'humor', 'darker', 'dramatic', 'acting', 'everyone', 'knows', 'results', 'well', 'lessthanstellar', 'film', 'hot', 'box', 'office', 'also', 'panned', 'critics', 'far', 'know', 'gene', 'siskel', 'ones', 'willing', 'admit', 'dug', 'first', 'time', 'saw', 'cable', 'guy', 'theatres', 'super', 'criticmode', 'really', 'like', 'however', 'due', 'fact', 'hbo', 'shows', 'movie', 'every', 'single', 'day', 'time', 'lean', 'back', 'relax', 'take', 'film', 'surprise', 'grew', 'plot', 'rather', 'simple', 'broderick', 'plays', 'guy', 'named', 'steven', 'befriends', 'cable', 'guy', 'played', 'carrey', 'stalked', 'steven', 'tries', 'break', 'relationship', 'see', 'steven', 'problems', 'girlfriend', 'robin', 'leslie', 'mann', 'think', 'room', 'life', 'new', 'friend', 'also', 'cable', 'guy', 'antics', 'creeping', 'carrey', 'cable', 'guy', 'gives', 'steven', 'various', 'aliases', 'later', 'find', 'characters', 'larry', 'tate', 'chip', 'douglas', 'ricky', 'ricardo', 'etc', 'apparently', 'lives', 'cable', 'van', 'many', 'critics', 'enjoy', 'newer', 'darker', 'lessmanic', 'performance', 'carrey', 'thought', 'interesting', 'rather', 'welldone', 'movie', 'whole', 'enjoyable', 'rather', 'several', 'individual', 'scenes', 'karaoke', 'jam', 'steven', 'apartment', 'medieval', 'fight', 'theme', 'restaurant', 'bathroom', 'beating', 'liar', 'liar', 'name', 'perhaps', 'fact', 'carrey', 'humorous', 'side', 'comes', 'scenes', 'makes', 'funny', 'really', 'want', 'see', 'something', 'got', 'hear', 'version', 'jefferson', 'airplane', 'somebody', 'love', 'sung', 'aformentioned', 'karaoke', 'jam', 'cable', 'guy', 'bad', 'spots', 'like', 'movie', 'particularly', 'like', 'steven', 'girlfriend', 'felt', 'focus', 'used', 'relationship', 'steven', 'best', 'friend', 'also', 'ending', 'fooled', 'moment', 'rather', 'contrived', 'somewhat', 'dissapointing', 'still', 'found', 'cable', 'guy', 'worthwhile', 'venture', 'video', 'store', 'think', 'anything', 'rent', 'suggest', 'try', 'hbo', 'wait', 'till', 'comes', 'wait', 'long', 'hell', 'every', 'day']\n"
     ]
    }
   ],
   "source": [
    "print(preprocessed_pos_reviews[22])"
   ]
  },
  {
   "cell_type": "markdown",
   "id": "dde8a528-55fa-4005-b477-396bc6ed139d",
   "metadata": {},
   "source": [
    "## Term-Document Matrix"
   ]
  },
  {
   "cell_type": "markdown",
   "id": "5bf55827-4100-425e-8eb5-957c0ff0a758",
   "metadata": {},
   "source": [
    "Now, we will proceed to create the term-document matrix with the already preprocessed reviews."
   ]
  },
  {
   "cell_type": "code",
   "execution_count": 7,
   "id": "ff8f77ee-26dc-44c8-a7bf-f733a3afb180",
   "metadata": {
    "tags": []
   },
   "outputs": [],
   "source": [
    "from sklearn.feature_extraction.text import CountVectorizer\n",
    "\n",
    "# Combine the positive and negative reviews into a single list of reviews\n",
    "all_reviews = preprocessed_pos_reviews + preprocessed_neg_reviews\n",
    "\n",
    "# Create labels for the reviews (1 for positive reviews, 0 for negative reviews)\n",
    "labels = [1] * len(preprocessed_pos_reviews) + [0] * len(preprocessed_neg_reviews)\n",
    "\n",
    "# Initialize the CountVectorizer from scikit-learn\n",
    "vectorizer = CountVectorizer()\n",
    "\n",
    "# Fit the vectorizer to the reviews and transform them into a term-document matrix\n",
    "X = vectorizer.fit_transform([' '.join(review) for review in all_reviews])"
   ]
  },
  {
   "cell_type": "markdown",
   "id": "17ea7e77-537c-4346-af98-6619f0d24e55",
   "metadata": {},
   "source": [
    "Let's inspect some feature names (tokens) and the shape of the matrix"
   ]
  },
  {
   "cell_type": "code",
   "execution_count": 8,
   "id": "d79d4a2e-dba0-477e-b537-3b06d2781ab9",
   "metadata": {
    "tags": []
   },
   "outputs": [
    {
     "name": "stdout",
     "output_type": "stream",
     "text": [
      "['basket' 'basketball' 'basketballs' 'basking' 'basque' 'basquiat' 'bass'\n",
      " 'bassan' 'basset' 'bassett' 'bassinger' 'basspounding' 'bastad' 'bastard'\n",
      " 'bastardised' 'bastardizing' 'bastards' 'bastille' 'bastion' 'bat'\n",
      " 'bataillon' 'batallion' 'batarang' 'batarangs']\n"
     ]
    }
   ],
   "source": [
    "print(vectorizer.get_feature_names_out()[3456:3480]) "
   ]
  },
  {
   "cell_type": "code",
   "execution_count": 9,
   "id": "db01e395-15e7-499c-9e3c-2f7d78efe1ff",
   "metadata": {
    "tags": []
   },
   "outputs": [
    {
     "data": {
      "text/plain": [
       "(2000, 44477)"
      ]
     },
     "execution_count": 9,
     "metadata": {},
     "output_type": "execute_result"
    }
   ],
   "source": [
    "X.shape"
   ]
  },
  {
   "cell_type": "markdown",
   "id": "525ae283-bb9e-4522-b1b6-cbffd692ce15",
   "metadata": {},
   "source": [
    "Now, let's inspect the number of labels in the list, which should be 2000."
   ]
  },
  {
   "cell_type": "code",
   "execution_count": 10,
   "id": "2fa21aa7-5f59-4488-acdd-48d47a91d73b",
   "metadata": {
    "tags": []
   },
   "outputs": [
    {
     "data": {
      "text/plain": [
       "2000"
      ]
     },
     "execution_count": 10,
     "metadata": {},
     "output_type": "execute_result"
    }
   ],
   "source": [
    "len(labels)"
   ]
  },
  {
   "cell_type": "markdown",
   "id": "dabb909d-4f1b-4c8b-b771-6e835d221f36",
   "metadata": {},
   "source": [
    "# Frequency Distribution Plots "
   ]
  },
  {
   "cell_type": "markdown",
   "id": "6c81cecf-717a-4190-95bb-31d086b8991b",
   "metadata": {},
   "source": [
    "## Most Frequent Positive Words "
   ]
  },
  {
   "cell_type": "code",
   "execution_count": 11,
   "id": "415f72e6-e0ac-4453-bf01-b7f97f1cea3c",
   "metadata": {
    "tags": []
   },
   "outputs": [
    {
     "data": {
      "text/html": [
       "<div>\n",
       "<style scoped>\n",
       "    .dataframe tbody tr th:only-of-type {\n",
       "        vertical-align: middle;\n",
       "    }\n",
       "\n",
       "    .dataframe tbody tr th {\n",
       "        vertical-align: top;\n",
       "    }\n",
       "\n",
       "    .dataframe thead th {\n",
       "        text-align: right;\n",
       "    }\n",
       "</style>\n",
       "<table border=\"1\" class=\"dataframe\">\n",
       "  <thead>\n",
       "    <tr style=\"text-align: right;\">\n",
       "      <th></th>\n",
       "      <th>Word</th>\n",
       "      <th>Frequency</th>\n",
       "    </tr>\n",
       "  </thead>\n",
       "  <tbody>\n",
       "    <tr>\n",
       "      <th>0</th>\n",
       "      <td>film</td>\n",
       "      <td>5193</td>\n",
       "    </tr>\n",
       "    <tr>\n",
       "      <th>1</th>\n",
       "      <td>one</td>\n",
       "      <td>2944</td>\n",
       "    </tr>\n",
       "    <tr>\n",
       "      <th>2</th>\n",
       "      <td>movie</td>\n",
       "      <td>2502</td>\n",
       "    </tr>\n",
       "    <tr>\n",
       "      <th>3</th>\n",
       "      <td>like</td>\n",
       "      <td>1719</td>\n",
       "    </tr>\n",
       "    <tr>\n",
       "      <th>4</th>\n",
       "      <td>story</td>\n",
       "      <td>1233</td>\n",
       "    </tr>\n",
       "    <tr>\n",
       "      <th>5</th>\n",
       "      <td>also</td>\n",
       "      <td>1200</td>\n",
       "    </tr>\n",
       "    <tr>\n",
       "      <th>6</th>\n",
       "      <td>good</td>\n",
       "      <td>1193</td>\n",
       "    </tr>\n",
       "    <tr>\n",
       "      <th>7</th>\n",
       "      <td>even</td>\n",
       "      <td>1175</td>\n",
       "    </tr>\n",
       "    <tr>\n",
       "      <th>8</th>\n",
       "      <td>time</td>\n",
       "      <td>1172</td>\n",
       "    </tr>\n",
       "    <tr>\n",
       "      <th>9</th>\n",
       "      <td>would</td>\n",
       "      <td>1080</td>\n",
       "    </tr>\n",
       "    <tr>\n",
       "      <th>10</th>\n",
       "      <td>character</td>\n",
       "      <td>1067</td>\n",
       "    </tr>\n",
       "    <tr>\n",
       "      <th>11</th>\n",
       "      <td>much</td>\n",
       "      <td>1027</td>\n",
       "    </tr>\n",
       "    <tr>\n",
       "      <th>12</th>\n",
       "      <td>life</td>\n",
       "      <td>994</td>\n",
       "    </tr>\n",
       "    <tr>\n",
       "      <th>13</th>\n",
       "      <td>characters</td>\n",
       "      <td>986</td>\n",
       "    </tr>\n",
       "    <tr>\n",
       "      <th>14</th>\n",
       "      <td>first</td>\n",
       "      <td>965</td>\n",
       "    </tr>\n",
       "    <tr>\n",
       "      <th>15</th>\n",
       "      <td>well</td>\n",
       "      <td>962</td>\n",
       "    </tr>\n",
       "    <tr>\n",
       "      <th>16</th>\n",
       "      <td>two</td>\n",
       "      <td>961</td>\n",
       "    </tr>\n",
       "    <tr>\n",
       "      <th>17</th>\n",
       "      <td>see</td>\n",
       "      <td>956</td>\n",
       "    </tr>\n",
       "    <tr>\n",
       "      <th>18</th>\n",
       "      <td>way</td>\n",
       "      <td>915</td>\n",
       "    </tr>\n",
       "    <tr>\n",
       "      <th>19</th>\n",
       "      <td>get</td>\n",
       "      <td>887</td>\n",
       "    </tr>\n",
       "    <tr>\n",
       "      <th>20</th>\n",
       "      <td>films</td>\n",
       "      <td>878</td>\n",
       "    </tr>\n",
       "    <tr>\n",
       "      <th>21</th>\n",
       "      <td>best</td>\n",
       "      <td>809</td>\n",
       "    </tr>\n",
       "    <tr>\n",
       "      <th>22</th>\n",
       "      <td>people</td>\n",
       "      <td>789</td>\n",
       "    </tr>\n",
       "    <tr>\n",
       "      <th>23</th>\n",
       "      <td>many</td>\n",
       "      <td>780</td>\n",
       "    </tr>\n",
       "    <tr>\n",
       "      <th>24</th>\n",
       "      <td>really</td>\n",
       "      <td>776</td>\n",
       "    </tr>\n",
       "    <tr>\n",
       "      <th>25</th>\n",
       "      <td>make</td>\n",
       "      <td>774</td>\n",
       "    </tr>\n",
       "    <tr>\n",
       "      <th>26</th>\n",
       "      <td>little</td>\n",
       "      <td>770</td>\n",
       "    </tr>\n",
       "    <tr>\n",
       "      <th>27</th>\n",
       "      <td>great</td>\n",
       "      <td>745</td>\n",
       "    </tr>\n",
       "    <tr>\n",
       "      <th>28</th>\n",
       "      <td>man</td>\n",
       "      <td>739</td>\n",
       "    </tr>\n",
       "    <tr>\n",
       "      <th>29</th>\n",
       "      <td>new</td>\n",
       "      <td>719</td>\n",
       "    </tr>\n",
       "  </tbody>\n",
       "</table>\n",
       "</div>"
      ],
      "text/plain": [
       "          Word  Frequency\n",
       "0         film       5193\n",
       "1          one       2944\n",
       "2        movie       2502\n",
       "3         like       1719\n",
       "4        story       1233\n",
       "5         also       1200\n",
       "6         good       1193\n",
       "7         even       1175\n",
       "8         time       1172\n",
       "9        would       1080\n",
       "10   character       1067\n",
       "11        much       1027\n",
       "12        life        994\n",
       "13  characters        986\n",
       "14       first        965\n",
       "15        well        962\n",
       "16         two        961\n",
       "17         see        956\n",
       "18         way        915\n",
       "19         get        887\n",
       "20       films        878\n",
       "21        best        809\n",
       "22      people        789\n",
       "23        many        780\n",
       "24      really        776\n",
       "25        make        774\n",
       "26      little        770\n",
       "27       great        745\n",
       "28         man        739\n",
       "29         new        719"
      ]
     },
     "execution_count": 11,
     "metadata": {},
     "output_type": "execute_result"
    }
   ],
   "source": [
    "from collections import Counter\n",
    "\n",
    "positive_words = []\n",
    "\n",
    "for review in preprocessed_pos_reviews:\n",
    "    for word in review:\n",
    "        positive_words.append(word)\n",
    "        \n",
    "# Count the frequency of elements\n",
    "pos_counter = Counter(positive_words)\n",
    "\n",
    "# Get the 30 most common elements and their frequencies\n",
    "pos_most_common = pos_counter.most_common(30)\n",
    "\n",
    "# Create a DataFrame from the most common elements\n",
    "pos_data = {\"Word\": [x[0] for x in pos_most_common], \"Frequency\": [x[1] for x in pos_most_common]}\n",
    "pos_words_df = pd.DataFrame(pos_data)\n",
    "\n",
    "# Show the results\n",
    "pos_words_df"
   ]
  },
  {
   "cell_type": "code",
   "execution_count": 12,
   "id": "c0bccd9a-2122-492c-976b-fef9be33366e",
   "metadata": {
    "tags": []
   },
   "outputs": [
    {
     "data": {
      "image/png": "[encoded data removed]",
      "text/plain": [
       "<Figure size 1200x400 with 1 Axes>"
      ]
     },
     "metadata": {},
     "output_type": "display_data"
    }
   ],
   "source": [
    "import seaborn as sns\n",
    "import matplotlib.pyplot as plt\n",
    "\n",
    "# Create a bar plot using Seaborn\n",
    "plt.figure(figsize=(12, 4))\n",
    "sns.barplot(x=\"Word\", y=\"Frequency\", data=pos_words_df, palette=\"viridis\")\n",
    "\n",
    "# Add labels and title\n",
    "plt.xlabel(\"Word\")\n",
    "plt.ylabel(\"Frequency\")\n",
    "plt.title(\"Frequency of the 30 Most Common Words in Positive Movie Reviews\")\n",
    "\n",
    "# Rotate x-axis labels by 90 degrees\n",
    "plt.xticks(rotation=90);"
   ]
  },
  {
   "cell_type": "markdown",
   "id": "a61f9a76-eef9-460e-a9e4-34ecfa0aab12",
   "metadata": {},
   "source": [
    "In the positive sentiment analysis dataset, common words suggest satisfaction and appreciation for the movies being reviewed. Words like \"film,\" \"one,\" \"movie,\" \"like,\" and \"story\" indicate a general positive tone towards films, with viewers likely expressing enjoyment or admiration. Terms like \"good,\" \"well,\" \"great,\" and \"best\" suggest praise for various aspects of the films, such as storytelling, character development, or overall quality. Words like \"time,\" \"also,\" and \"would\" further indicate positive sentiments, suggesting that viewers find these films engaging, enjoyable, or otherwise valuable. Overall, the positive sentiment dataset reflects viewers' positive reactions and appreciation for the films they are reviewing."
   ]
  },
  {
   "cell_type": "markdown",
   "id": "de995d15-a578-4161-af99-9af9ab0491e2",
   "metadata": {},
   "source": [
    "## Most Frequent Negative Words "
   ]
  },
  {
   "cell_type": "code",
   "execution_count": 13,
   "id": "b33106c8-1703-4d8e-a499-64f20795d36b",
   "metadata": {
    "tags": []
   },
   "outputs": [
    {
     "data": {
      "text/html": [
       "<div>\n",
       "<style scoped>\n",
       "    .dataframe tbody tr th:only-of-type {\n",
       "        vertical-align: middle;\n",
       "    }\n",
       "\n",
       "    .dataframe tbody tr th {\n",
       "        vertical-align: top;\n",
       "    }\n",
       "\n",
       "    .dataframe thead th {\n",
       "        text-align: right;\n",
       "    }\n",
       "</style>\n",
       "<table border=\"1\" class=\"dataframe\">\n",
       "  <thead>\n",
       "    <tr style=\"text-align: right;\">\n",
       "      <th></th>\n",
       "      <th>Word</th>\n",
       "      <th>Frequency</th>\n",
       "    </tr>\n",
       "  </thead>\n",
       "  <tbody>\n",
       "    <tr>\n",
       "      <th>0</th>\n",
       "      <td>film</td>\n",
       "      <td>4258</td>\n",
       "    </tr>\n",
       "    <tr>\n",
       "      <th>1</th>\n",
       "      <td>movie</td>\n",
       "      <td>3174</td>\n",
       "    </tr>\n",
       "    <tr>\n",
       "      <th>2</th>\n",
       "      <td>one</td>\n",
       "      <td>2643</td>\n",
       "    </tr>\n",
       "    <tr>\n",
       "      <th>3</th>\n",
       "      <td>like</td>\n",
       "      <td>1836</td>\n",
       "    </tr>\n",
       "    <tr>\n",
       "      <th>4</th>\n",
       "      <td>even</td>\n",
       "      <td>1382</td>\n",
       "    </tr>\n",
       "    <tr>\n",
       "      <th>5</th>\n",
       "      <td>would</td>\n",
       "      <td>1185</td>\n",
       "    </tr>\n",
       "    <tr>\n",
       "      <th>6</th>\n",
       "      <td>good</td>\n",
       "      <td>1128</td>\n",
       "    </tr>\n",
       "    <tr>\n",
       "      <th>7</th>\n",
       "      <td>time</td>\n",
       "      <td>1112</td>\n",
       "    </tr>\n",
       "    <tr>\n",
       "      <th>8</th>\n",
       "      <td>get</td>\n",
       "      <td>1039</td>\n",
       "    </tr>\n",
       "    <tr>\n",
       "      <th>9</th>\n",
       "      <td>bad</td>\n",
       "      <td>1021</td>\n",
       "    </tr>\n",
       "    <tr>\n",
       "      <th>10</th>\n",
       "      <td>much</td>\n",
       "      <td>998</td>\n",
       "    </tr>\n",
       "    <tr>\n",
       "      <th>11</th>\n",
       "      <td>character</td>\n",
       "      <td>932</td>\n",
       "    </tr>\n",
       "    <tr>\n",
       "      <th>12</th>\n",
       "      <td>story</td>\n",
       "      <td>914</td>\n",
       "    </tr>\n",
       "    <tr>\n",
       "      <th>13</th>\n",
       "      <td>could</td>\n",
       "      <td>898</td>\n",
       "    </tr>\n",
       "    <tr>\n",
       "      <th>14</th>\n",
       "      <td>plot</td>\n",
       "      <td>881</td>\n",
       "    </tr>\n",
       "    <tr>\n",
       "      <th>15</th>\n",
       "      <td>characters</td>\n",
       "      <td>873</td>\n",
       "    </tr>\n",
       "    <tr>\n",
       "      <th>16</th>\n",
       "      <td>two</td>\n",
       "      <td>867</td>\n",
       "    </tr>\n",
       "    <tr>\n",
       "      <th>17</th>\n",
       "      <td>make</td>\n",
       "      <td>819</td>\n",
       "    </tr>\n",
       "    <tr>\n",
       "      <th>18</th>\n",
       "      <td>first</td>\n",
       "      <td>806</td>\n",
       "    </tr>\n",
       "    <tr>\n",
       "      <th>19</th>\n",
       "      <td>really</td>\n",
       "      <td>787</td>\n",
       "    </tr>\n",
       "    <tr>\n",
       "      <th>20</th>\n",
       "      <td>see</td>\n",
       "      <td>776</td>\n",
       "    </tr>\n",
       "    <tr>\n",
       "      <th>21</th>\n",
       "      <td>also</td>\n",
       "      <td>765</td>\n",
       "    </tr>\n",
       "    <tr>\n",
       "      <th>22</th>\n",
       "      <td>way</td>\n",
       "      <td>754</td>\n",
       "    </tr>\n",
       "    <tr>\n",
       "      <th>23</th>\n",
       "      <td>little</td>\n",
       "      <td>722</td>\n",
       "    </tr>\n",
       "    <tr>\n",
       "      <th>24</th>\n",
       "      <td>well</td>\n",
       "      <td>700</td>\n",
       "    </tr>\n",
       "    <tr>\n",
       "      <th>25</th>\n",
       "      <td>people</td>\n",
       "      <td>660</td>\n",
       "    </tr>\n",
       "    <tr>\n",
       "      <th>26</th>\n",
       "      <td>scene</td>\n",
       "      <td>658</td>\n",
       "    </tr>\n",
       "    <tr>\n",
       "      <th>27</th>\n",
       "      <td>never</td>\n",
       "      <td>647</td>\n",
       "    </tr>\n",
       "    <tr>\n",
       "      <th>28</th>\n",
       "      <td>films</td>\n",
       "      <td>644</td>\n",
       "    </tr>\n",
       "    <tr>\n",
       "      <th>29</th>\n",
       "      <td>know</td>\n",
       "      <td>640</td>\n",
       "    </tr>\n",
       "  </tbody>\n",
       "</table>\n",
       "</div>"
      ],
      "text/plain": [
       "          Word  Frequency\n",
       "0         film       4258\n",
       "1        movie       3174\n",
       "2          one       2643\n",
       "3         like       1836\n",
       "4         even       1382\n",
       "5        would       1185\n",
       "6         good       1128\n",
       "7         time       1112\n",
       "8          get       1039\n",
       "9          bad       1021\n",
       "10        much        998\n",
       "11   character        932\n",
       "12       story        914\n",
       "13       could        898\n",
       "14        plot        881\n",
       "15  characters        873\n",
       "16         two        867\n",
       "17        make        819\n",
       "18       first        806\n",
       "19      really        787\n",
       "20         see        776\n",
       "21        also        765\n",
       "22         way        754\n",
       "23      little        722\n",
       "24        well        700\n",
       "25      people        660\n",
       "26       scene        658\n",
       "27       never        647\n",
       "28       films        644\n",
       "29        know        640"
      ]
     },
     "execution_count": 13,
     "metadata": {},
     "output_type": "execute_result"
    }
   ],
   "source": [
    "negative_words = []\n",
    "\n",
    "for review in preprocessed_neg_reviews:\n",
    "    for word in review:\n",
    "        negative_words.append(word)\n",
    "        \n",
    "# Count the frequency of elements\n",
    "neg_counter = Counter(negative_words)\n",
    "\n",
    "# Get the 30 most common elements and their frequencies\n",
    "neg_most_common = neg_counter.most_common(30)\n",
    "\n",
    "# Create a DataFrame from the most common elements\n",
    "neg_data = {\"Word\": [x[0] for x in neg_most_common], \"Frequency\": [x[1] for x in neg_most_common]}\n",
    "neg_words_df = pd.DataFrame(neg_data)\n",
    "\n",
    "# Show the results\n",
    "neg_words_df"
   ]
  },
  {
   "cell_type": "code",
   "execution_count": 14,
   "id": "bfe52ca1-25a0-459e-aaa1-2c92abbcb657",
   "metadata": {
    "tags": []
   },
   "outputs": [
    {
     "data": {
      "image/png": "[encoded data removed]",
      "text/plain": [
       "<Figure size 1200x400 with 1 Axes>"
      ]
     },
     "metadata": {},
     "output_type": "display_data"
    }
   ],
   "source": [
    "# Create a bar plot using Seaborn\n",
    "plt.figure(figsize=(12, 4))\n",
    "sns.barplot(x=\"Word\", y=\"Frequency\", data=neg_words_df, palette=\"viridis\")\n",
    "\n",
    "# Add labels and title\n",
    "plt.xlabel(\"Word\")\n",
    "plt.ylabel(\"Frequency\")\n",
    "plt.title(\"Frequency of the 30 Most Common Words in Negative Movie Reviews\")\n",
    "\n",
    "# Rotate x-axis labels by 90 degrees\n",
    "plt.xticks(rotation=90);"
   ]
  },
  {
   "cell_type": "markdown",
   "id": "6670a8e1-19ea-4017-b30f-3abdc58b0d70",
   "metadata": {
    "tags": []
   },
   "source": [
    "In the negative sentiment analysis dataset, the most common words reflect aspects of dissatisfaction and criticism in movie reviews. Words like \"film,\" \"movie,\" \"like,\" \"even,\" and \"would\" suggest a tendency to discuss various aspects of films, indicating a critical tone. Terms such as \"bad,\" \"much,\" \"never,\" and \"little\" further emphasize negative sentiments, likely indicating dissatisfaction with elements like plot, characters, or overall execution. Criticisms about the storyline (\"story,\" \"plot\"), characters (\"character,\" \"characters\"), and the overall quality of the film (\"good,\" \"bad,\" \"films\") are prevalent, indicating that these are key areas where viewers express disappointment or dissatisfaction."
   ]
  },
  {
   "cell_type": "markdown",
   "id": "cd5e8a44-524e-4cb9-998d-25c3093fda43",
   "metadata": {},
   "source": [
    "# Naïve Bayes Model Training"
   ]
  },
  {
   "cell_type": "markdown",
   "id": "6b773b07-fb72-4170-a0c9-df93e580f0e8",
   "metadata": {},
   "source": [
    "Multinomial Naive Bayes is preferred over GaussianNB and BernoulliNB for a term-document matrix because it directly models the likelihood of observing each term's frequency in a document, which aligns well with the count-based nature of the data. GaussianNB assumes a normal distribution for features, which is not suitable for count data, while BernoulliNB treats features as binary, which doesn't fully capture the information in term frequencies."
   ]
  },
  {
   "cell_type": "code",
   "execution_count": 15,
   "id": "fb7053ea-0213-4beb-95e2-5ab709bb5cb0",
   "metadata": {
    "tags": []
   },
   "outputs": [
    {
     "data": {
      "text/html": [
       "<style>#sk-container-id-1 {\n",
       "  /* Definition of color scheme common for light and dark mode */\n",
       "  --sklearn-color-text: black;\n",
       "  --sklearn-color-line: gray;\n",
       "  /* Definition of color scheme for unfitted estimators */\n",
       "  --sklearn-color-unfitted-level-0: #fff5e6;\n",
       "  --sklearn-color-unfitted-level-1: #f6e4d2;\n",
       "  --sklearn-color-unfitted-level-2: #ffe0b3;\n",
       "  --sklearn-color-unfitted-level-3: chocolate;\n",
       "  /* Definition of color scheme for fitted estimators */\n",
       "  --sklearn-color-fitted-level-0: #f0f8ff;\n",
       "  --sklearn-color-fitted-level-1: #d4ebff;\n",
       "  --sklearn-color-fitted-level-2: #b3dbfd;\n",
       "  --sklearn-color-fitted-level-3: cornflowerblue;\n",
       "\n",
       "  /* Specific color for light theme */\n",
       "  --sklearn-color-text-on-default-background: var(--sg-text-color, var(--theme-code-foreground, var(--jp-content-font-color1, black)));\n",
       "  --sklearn-color-background: var(--sg-background-color, var(--theme-background, var(--jp-layout-color0, white)));\n",
       "  --sklearn-color-border-box: var(--sg-text-color, var(--theme-code-foreground, var(--jp-content-font-color1, black)));\n",
       "  --sklearn-color-icon: #696969;\n",
       "\n",
       "  @media (prefers-color-scheme: dark) {\n",
       "    /* Redefinition of color scheme for dark theme */\n",
       "    --sklearn-color-text-on-default-background: var(--sg-text-color, var(--theme-code-foreground, var(--jp-content-font-color1, white)));\n",
       "    --sklearn-color-background: var(--sg-background-color, var(--theme-background, var(--jp-layout-color0, #111)));\n",
       "    --sklearn-color-border-box: var(--sg-text-color, var(--theme-code-foreground, var(--jp-content-font-color1, white)));\n",
       "    --sklearn-color-icon: #878787;\n",
       "  }\n",
       "}\n",
       "\n",
       "#sk-container-id-1 {\n",
       "  color: var(--sklearn-color-text);\n",
       "}\n",
       "\n",
       "#sk-container-id-1 pre {\n",
       "  padding: 0;\n",
       "}\n",
       "\n",
       "#sk-container-id-1 input.sk-hidden--visually {\n",
       "  border: 0;\n",
       "  clip: rect(1px 1px 1px 1px);\n",
       "  clip: rect(1px, 1px, 1px, 1px);\n",
       "  height: 1px;\n",
       "  margin: -1px;\n",
       "  overflow: hidden;\n",
       "  padding: 0;\n",
       "  position: absolute;\n",
       "  width: 1px;\n",
       "}\n",
       "\n",
       "#sk-container-id-1 div.sk-dashed-wrapped {\n",
       "  border: 1px dashed var(--sklearn-color-line);\n",
       "  margin: 0 0.4em 0.5em 0.4em;\n",
       "  box-sizing: border-box;\n",
       "  padding-bottom: 0.4em;\n",
       "  background-color: var(--sklearn-color-background);\n",
       "}\n",
       "\n",
       "#sk-container-id-1 div.sk-container {\n",
       "  /* jupyter's `normalize.less` sets `[hidden] { display: none; }`\n",
       "     but bootstrap.min.css set `[hidden] { display: none !important; }`\n",
       "     so we also need the `!important` here to be able to override the\n",
       "     default hidden behavior on the sphinx rendered scikit-learn.org.\n",
       "     See: https://github.com/scikit-learn/scikit-learn/issues/21755 */\n",
       "  display: inline-block !important;\n",
       "  position: relative;\n",
       "}\n",
       "\n",
       "#sk-container-id-1 div.sk-text-repr-fallback {\n",
       "  display: none;\n",
       "}\n",
       "\n",
       "div.sk-parallel-item,\n",
       "div.sk-serial,\n",
       "div.sk-item {\n",
       "  /* draw centered vertical line to link estimators */\n",
       "  background-image: linear-gradient(var(--sklearn-color-text-on-default-background), var(--sklearn-color-text-on-default-background));\n",
       "  background-size: 2px 100%;\n",
       "  background-repeat: no-repeat;\n",
       "  background-position: center center;\n",
       "}\n",
       "\n",
       "/* Parallel-specific style estimator block */\n",
       "\n",
       "#sk-container-id-1 div.sk-parallel-item::after {\n",
       "  content: \"\";\n",
       "  width: 100%;\n",
       "  border-bottom: 2px solid var(--sklearn-color-text-on-default-background);\n",
       "  flex-grow: 1;\n",
       "}\n",
       "\n",
       "#sk-container-id-1 div.sk-parallel {\n",
       "  display: flex;\n",
       "  align-items: stretch;\n",
       "  justify-content: center;\n",
       "  background-color: var(--sklearn-color-background);\n",
       "  position: relative;\n",
       "}\n",
       "\n",
       "#sk-container-id-1 div.sk-parallel-item {\n",
       "  display: flex;\n",
       "  flex-direction: column;\n",
       "}\n",
       "\n",
       "#sk-container-id-1 div.sk-parallel-item:first-child::after {\n",
       "  align-self: flex-end;\n",
       "  width: 50%;\n",
       "}\n",
       "\n",
       "#sk-container-id-1 div.sk-parallel-item:last-child::after {\n",
       "  align-self: flex-start;\n",
       "  width: 50%;\n",
       "}\n",
       "\n",
       "#sk-container-id-1 div.sk-parallel-item:only-child::after {\n",
       "  width: 0;\n",
       "}\n",
       "\n",
       "/* Serial-specific style estimator block */\n",
       "\n",
       "#sk-container-id-1 div.sk-serial {\n",
       "  display: flex;\n",
       "  flex-direction: column;\n",
       "  align-items: center;\n",
       "  background-color: var(--sklearn-color-background);\n",
       "  padding-right: 1em;\n",
       "  padding-left: 1em;\n",
       "}\n",
       "\n",
       "\n",
       "/* Toggleable style: style used for estimator/Pipeline/ColumnTransformer box that is\n",
       "clickable and can be expanded/collapsed.\n",
       "- Pipeline and ColumnTransformer use this feature and define the default style\n",
       "- Estimators will overwrite some part of the style using the `sk-estimator` class\n",
       "*/\n",
       "\n",
       "/* Pipeline and ColumnTransformer style (default) */\n",
       "\n",
       "#sk-container-id-1 div.sk-toggleable {\n",
       "  /* Default theme specific background. It is overwritten whether we have a\n",
       "  specific estimator or a Pipeline/ColumnTransformer */\n",
       "  background-color: var(--sklearn-color-background);\n",
       "}\n",
       "\n",
       "/* Toggleable label */\n",
       "#sk-container-id-1 label.sk-toggleable__label {\n",
       "  cursor: pointer;\n",
       "  display: block;\n",
       "  width: 100%;\n",
       "  margin-bottom: 0;\n",
       "  padding: 0.5em;\n",
       "  box-sizing: border-box;\n",
       "  text-align: center;\n",
       "}\n",
       "\n",
       "#sk-container-id-1 label.sk-toggleable__label-arrow:before {\n",
       "  /* Arrow on the left of the label */\n",
       "  content: \"▸\";\n",
       "  float: left;\n",
       "  margin-right: 0.25em;\n",
       "  color: var(--sklearn-color-icon);\n",
       "}\n",
       "\n",
       "#sk-container-id-1 label.sk-toggleable__label-arrow:hover:before {\n",
       "  color: var(--sklearn-color-text);\n",
       "}\n",
       "\n",
       "/* Toggleable content - dropdown */\n",
       "\n",
       "#sk-container-id-1 div.sk-toggleable__content {\n",
       "  max-height: 0;\n",
       "  max-width: 0;\n",
       "  overflow: hidden;\n",
       "  text-align: left;\n",
       "  /* unfitted */\n",
       "  background-color: var(--sklearn-color-unfitted-level-0);\n",
       "}\n",
       "\n",
       "#sk-container-id-1 div.sk-toggleable__content.fitted {\n",
       "  /* fitted */\n",
       "  background-color: var(--sklearn-color-fitted-level-0);\n",
       "}\n",
       "\n",
       "#sk-container-id-1 div.sk-toggleable__content pre {\n",
       "  margin: 0.2em;\n",
       "  border-radius: 0.25em;\n",
       "  color: var(--sklearn-color-text);\n",
       "  /* unfitted */\n",
       "  background-color: var(--sklearn-color-unfitted-level-0);\n",
       "}\n",
       "\n",
       "#sk-container-id-1 div.sk-toggleable__content.fitted pre {\n",
       "  /* unfitted */\n",
       "  background-color: var(--sklearn-color-fitted-level-0);\n",
       "}\n",
       "\n",
       "#sk-container-id-1 input.sk-toggleable__control:checked~div.sk-toggleable__content {\n",
       "  /* Expand drop-down */\n",
       "  max-height: 200px;\n",
       "  max-width: 100%;\n",
       "  overflow: auto;\n",
       "}\n",
       "\n",
       "#sk-container-id-1 input.sk-toggleable__control:checked~label.sk-toggleable__label-arrow:before {\n",
       "  content: \"▾\";\n",
       "}\n",
       "\n",
       "/* Pipeline/ColumnTransformer-specific style */\n",
       "\n",
       "#sk-container-id-1 div.sk-label input.sk-toggleable__control:checked~label.sk-toggleable__label {\n",
       "  color: var(--sklearn-color-text);\n",
       "  background-color: var(--sklearn-color-unfitted-level-2);\n",
       "}\n",
       "\n",
       "#sk-container-id-1 div.sk-label.fitted input.sk-toggleable__control:checked~label.sk-toggleable__label {\n",
       "  background-color: var(--sklearn-color-fitted-level-2);\n",
       "}\n",
       "\n",
       "/* Estimator-specific style */\n",
       "\n",
       "/* Colorize estimator box */\n",
       "#sk-container-id-1 div.sk-estimator input.sk-toggleable__control:checked~label.sk-toggleable__label {\n",
       "  /* unfitted */\n",
       "  background-color: var(--sklearn-color-unfitted-level-2);\n",
       "}\n",
       "\n",
       "#sk-container-id-1 div.sk-estimator.fitted input.sk-toggleable__control:checked~label.sk-toggleable__label {\n",
       "  /* fitted */\n",
       "  background-color: var(--sklearn-color-fitted-level-2);\n",
       "}\n",
       "\n",
       "#sk-container-id-1 div.sk-label label.sk-toggleable__label,\n",
       "#sk-container-id-1 div.sk-label label {\n",
       "  /* The background is the default theme color */\n",
       "  color: var(--sklearn-color-text-on-default-background);\n",
       "}\n",
       "\n",
       "/* On hover, darken the color of the background */\n",
       "#sk-container-id-1 div.sk-label:hover label.sk-toggleable__label {\n",
       "  color: var(--sklearn-color-text);\n",
       "  background-color: var(--sklearn-color-unfitted-level-2);\n",
       "}\n",
       "\n",
       "/* Label box, darken color on hover, fitted */\n",
       "#sk-container-id-1 div.sk-label.fitted:hover label.sk-toggleable__label.fitted {\n",
       "  color: var(--sklearn-color-text);\n",
       "  background-color: var(--sklearn-color-fitted-level-2);\n",
       "}\n",
       "\n",
       "/* Estimator label */\n",
       "\n",
       "#sk-container-id-1 div.sk-label label {\n",
       "  font-family: monospace;\n",
       "  font-weight: bold;\n",
       "  display: inline-block;\n",
       "  line-height: 1.2em;\n",
       "}\n",
       "\n",
       "#sk-container-id-1 div.sk-label-container {\n",
       "  text-align: center;\n",
       "}\n",
       "\n",
       "/* Estimator-specific */\n",
       "#sk-container-id-1 div.sk-estimator {\n",
       "  font-family: monospace;\n",
       "  border: 1px dotted var(--sklearn-color-border-box);\n",
       "  border-radius: 0.25em;\n",
       "  box-sizing: border-box;\n",
       "  margin-bottom: 0.5em;\n",
       "  /* unfitted */\n",
       "  background-color: var(--sklearn-color-unfitted-level-0);\n",
       "}\n",
       "\n",
       "#sk-container-id-1 div.sk-estimator.fitted {\n",
       "  /* fitted */\n",
       "  background-color: var(--sklearn-color-fitted-level-0);\n",
       "}\n",
       "\n",
       "/* on hover */\n",
       "#sk-container-id-1 div.sk-estimator:hover {\n",
       "  /* unfitted */\n",
       "  background-color: var(--sklearn-color-unfitted-level-2);\n",
       "}\n",
       "\n",
       "#sk-container-id-1 div.sk-estimator.fitted:hover {\n",
       "  /* fitted */\n",
       "  background-color: var(--sklearn-color-fitted-level-2);\n",
       "}\n",
       "\n",
       "/* Specification for estimator info (e.g. \"i\" and \"?\") */\n",
       "\n",
       "/* Common style for \"i\" and \"?\" */\n",
       "\n",
       ".sk-estimator-doc-link,\n",
       "a:link.sk-estimator-doc-link,\n",
       "a:visited.sk-estimator-doc-link {\n",
       "  float: right;\n",
       "  font-size: smaller;\n",
       "  line-height: 1em;\n",
       "  font-family: monospace;\n",
       "  background-color: var(--sklearn-color-background);\n",
       "  border-radius: 1em;\n",
       "  height: 1em;\n",
       "  width: 1em;\n",
       "  text-decoration: none !important;\n",
       "  margin-left: 1ex;\n",
       "  /* unfitted */\n",
       "  border: var(--sklearn-color-unfitted-level-1) 1pt solid;\n",
       "  color: var(--sklearn-color-unfitted-level-1);\n",
       "}\n",
       "\n",
       ".sk-estimator-doc-link.fitted,\n",
       "a:link.sk-estimator-doc-link.fitted,\n",
       "a:visited.sk-estimator-doc-link.fitted {\n",
       "  /* fitted */\n",
       "  border: var(--sklearn-color-fitted-level-1) 1pt solid;\n",
       "  color: var(--sklearn-color-fitted-level-1);\n",
       "}\n",
       "\n",
       "/* On hover */\n",
       "div.sk-estimator:hover .sk-estimator-doc-link:hover,\n",
       ".sk-estimator-doc-link:hover,\n",
       "div.sk-label-container:hover .sk-estimator-doc-link:hover,\n",
       ".sk-estimator-doc-link:hover {\n",
       "  /* unfitted */\n",
       "  background-color: var(--sklearn-color-unfitted-level-3);\n",
       "  color: var(--sklearn-color-background);\n",
       "  text-decoration: none;\n",
       "}\n",
       "\n",
       "div.sk-estimator.fitted:hover .sk-estimator-doc-link.fitted:hover,\n",
       ".sk-estimator-doc-link.fitted:hover,\n",
       "div.sk-label-container:hover .sk-estimator-doc-link.fitted:hover,\n",
       ".sk-estimator-doc-link.fitted:hover {\n",
       "  /* fitted */\n",
       "  background-color: var(--sklearn-color-fitted-level-3);\n",
       "  color: var(--sklearn-color-background);\n",
       "  text-decoration: none;\n",
       "}\n",
       "\n",
       "/* Span, style for the box shown on hovering the info icon */\n",
       ".sk-estimator-doc-link span {\n",
       "  display: none;\n",
       "  z-index: 9999;\n",
       "  position: relative;\n",
       "  font-weight: normal;\n",
       "  right: .2ex;\n",
       "  padding: .5ex;\n",
       "  margin: .5ex;\n",
       "  width: min-content;\n",
       "  min-width: 20ex;\n",
       "  max-width: 50ex;\n",
       "  color: var(--sklearn-color-text);\n",
       "  box-shadow: 2pt 2pt 4pt #999;\n",
       "  /* unfitted */\n",
       "  background: var(--sklearn-color-unfitted-level-0);\n",
       "  border: .5pt solid var(--sklearn-color-unfitted-level-3);\n",
       "}\n",
       "\n",
       ".sk-estimator-doc-link.fitted span {\n",
       "  /* fitted */\n",
       "  background: var(--sklearn-color-fitted-level-0);\n",
       "  border: var(--sklearn-color-fitted-level-3);\n",
       "}\n",
       "\n",
       ".sk-estimator-doc-link:hover span {\n",
       "  display: block;\n",
       "}\n",
       "\n",
       "/* \"?\"-specific style due to the `<a>` HTML tag */\n",
       "\n",
       "#sk-container-id-1 a.estimator_doc_link {\n",
       "  float: right;\n",
       "  font-size: 1rem;\n",
       "  line-height: 1em;\n",
       "  font-family: monospace;\n",
       "  background-color: var(--sklearn-color-background);\n",
       "  border-radius: 1rem;\n",
       "  height: 1rem;\n",
       "  width: 1rem;\n",
       "  text-decoration: none;\n",
       "  /* unfitted */\n",
       "  color: var(--sklearn-color-unfitted-level-1);\n",
       "  border: var(--sklearn-color-unfitted-level-1) 1pt solid;\n",
       "}\n",
       "\n",
       "#sk-container-id-1 a.estimator_doc_link.fitted {\n",
       "  /* fitted */\n",
       "  border: var(--sklearn-color-fitted-level-1) 1pt solid;\n",
       "  color: var(--sklearn-color-fitted-level-1);\n",
       "}\n",
       "\n",
       "/* On hover */\n",
       "#sk-container-id-1 a.estimator_doc_link:hover {\n",
       "  /* unfitted */\n",
       "  background-color: var(--sklearn-color-unfitted-level-3);\n",
       "  color: var(--sklearn-color-background);\n",
       "  text-decoration: none;\n",
       "}\n",
       "\n",
       "#sk-container-id-1 a.estimator_doc_link.fitted:hover {\n",
       "  /* fitted */\n",
       "  background-color: var(--sklearn-color-fitted-level-3);\n",
       "}\n",
       "</style><div id=\"sk-container-id-1\" class=\"sk-top-container\"><div class=\"sk-text-repr-fallback\"><pre>MultinomialNB()</pre><b>In a Jupyter environment, please rerun this cell to show the HTML representation or trust the notebook. <br />On GitHub, the HTML representation is unable to render, please try loading this page with nbviewer.org.</b></div><div class=\"sk-container\" hidden><div class=\"sk-item\"><div class=\"sk-estimator fitted sk-toggleable\"><input class=\"sk-toggleable__control sk-hidden--visually\" id=\"sk-estimator-id-1\" type=\"checkbox\" checked><label for=\"sk-estimator-id-1\" class=\"sk-toggleable__label fitted sk-toggleable__label-arrow fitted\">&nbsp;&nbsp;MultinomialNB<a class=\"sk-estimator-doc-link fitted\" rel=\"noreferrer\" target=\"_blank\" href=\"https://scikit-learn.org/1.4/modules/generated/sklearn.naive_bayes.MultinomialNB.html\">?<span>Documentation for MultinomialNB</span></a><span class=\"sk-estimator-doc-link fitted\">i<span>Fitted</span></span></label><div class=\"sk-toggleable__content fitted\"><pre>MultinomialNB()</pre></div> </div></div></div></div>"
      ],
      "text/plain": [
       "MultinomialNB()"
      ]
     },
     "execution_count": 15,
     "metadata": {},
     "output_type": "execute_result"
    }
   ],
   "source": [
    "from sklearn.model_selection import train_test_split\n",
    "from sklearn.naive_bayes import MultinomialNB\n",
    "\n",
    "# Split the data into training and testing sets\n",
    "X_train, X_test, y_train, y_test = train_test_split(X, labels, test_size=0.25, random_state=42)\n",
    "\n",
    "# Create a Multinomial Naive Bayes model\n",
    "sentiment_analysis_mnb = MultinomialNB()\n",
    "\n",
    "# Fit the model to the training data\n",
    "sentiment_analysis_mnb.fit(X_train, y_train)"
   ]
  },
  {
   "cell_type": "markdown",
   "id": "9d1dde6e-f884-463b-9b46-9f0352912fd0",
   "metadata": {},
   "source": [
    "# Naïve Bayes Model Testing"
   ]
  },
  {
   "cell_type": "markdown",
   "id": "bab08f5d-5d0f-408a-b7bc-314b33587630",
   "metadata": {},
   "source": [
    "## Testing"
   ]
  },
  {
   "cell_type": "markdown",
   "id": "c6aed13e-bbd0-4948-ba53-239ea5f652f7",
   "metadata": {},
   "source": [
    "After training our model, we now fit it to the testing set to make predictions."
   ]
  },
  {
   "cell_type": "code",
   "execution_count": 16,
   "id": "996745d8-b7f2-4005-8b8c-a68e90feaa1c",
   "metadata": {
    "tags": []
   },
   "outputs": [],
   "source": [
    "# Make predictions on the test data\n",
    "y_pred = sentiment_analysis_mnb.predict(X_test)"
   ]
  },
  {
   "cell_type": "markdown",
   "id": "e499347e-0ef3-44cd-9c7c-6e4d39931362",
   "metadata": {},
   "source": [
    "## Results"
   ]
  },
  {
   "cell_type": "markdown",
   "id": "c6617fdc-7bc7-46b6-a8d1-ea10d42a53b9",
   "metadata": {},
   "source": [
    "We will now calculate the metrics for our sentiment analysis model."
   ]
  },
  {
   "cell_type": "code",
   "execution_count": 17,
   "id": "4780c14c-f2e2-49f7-8eaf-7887fe03ad19",
   "metadata": {
    "tags": []
   },
   "outputs": [],
   "source": [
    "# Import the necessary packages\n",
    "from sklearn.model_selection import cross_validate\n",
    "from sklearn.metrics import confusion_matrix, accuracy_score, precision_score, recall_score, f1_score, classification_report\n",
    "\n",
    "# Generic function for calculting metrics\n",
    "def metrics(actual, predicted):\n",
    "    # Scikit-learn functions\n",
    "    # Accuracy\n",
    "    accuracy_sklearn = accuracy_score(actual, predicted)\n",
    "    # Precision\n",
    "    precision_sklearn = precision_score(actual, predicted)\n",
    "    # Sensitivity\n",
    "    sensitivity_sklearn = recall_score(actual, predicted)  # Recall is equivalent to sensitivity\n",
    "    # Specificity\n",
    "    specificity_sklearn = recall_score(actual, predicted, pos_label=0)  # Specificity is calculated for the negative class\n",
    "    # F1 Score\n",
    "    f1_score_sklearn = f1_score(actual, predicted)\n",
    "    # Print all the metrics\n",
    "    print(\"Accuracy:\", round(accuracy_sklearn*100,2), \"%\")\n",
    "    print(\"Precision:\", round(precision_sklearn*100,2), \"%\")\n",
    "    print(\"Sensitivity (Recall):\", round(sensitivity_sklearn*100,2), \"%\")\n",
    "    print(\"Specificity:\", round(specificity_sklearn*100,2), \"%\")\n",
    "    print(\"F1 Score:\", round(f1_score_sklearn*100,2), \"%\")\n",
    "    \n",
    "def print_confusion_matrix_info(conf_matrix):\n",
    "    TN, FP, FN, TP = conf_matrix.ravel()\n",
    "    print(f\"True Positives (TP): {TP}\")\n",
    "    print(f\"False Positives (FP): {FP}\")\n",
    "    print(f\"False Negatives (FN): {FN}\")\n",
    "    print(f\"True Negatives (TN): {TN}\")"
   ]
  },
  {
   "cell_type": "code",
   "execution_count": 18,
   "id": "167a9451-671b-4c97-a439-c0abfa8c1c6b",
   "metadata": {
    "tags": []
   },
   "outputs": [
    {
     "name": "stdout",
     "output_type": "stream",
     "text": [
      "Accuracy: 80.0 %\n",
      "Precision: 81.27 %\n",
      "Sensitivity (Recall): 79.38 %\n",
      "Specificity: 80.66 %\n",
      "F1 Score: 80.31 %\n"
     ]
    }
   ],
   "source": [
    "metrics(y_test, y_pred)"
   ]
  },
  {
   "cell_type": "markdown",
   "id": "c5070e05-4ce7-4911-9cfb-6fcd55c412e1",
   "metadata": {},
   "source": [
    "The Naive Bayes Multinomial classifier model achieved a reasonable performance, with an accuracy of 80%. However, it's essential to consider the trade-offs between different metrics, as accuracy alone may not provide a complete picture of the model's effectiveness.\n",
    "\n",
    "The model's precision of 81.27% indicates that when it classifies a review as positive, it is correct approximately 81% of the time. This metric is particularly important when the cost of a false positive is high, as it ensures that positive classifications are reliable. On the other hand, the sensitivity (recall) of 79.38% suggests that the model correctly identifies around 79% of the actual positive reviews. A lower recall value could mean that the model is missing a significant number of positive reviews, leading to potential missed opportunities.\n",
    "\n",
    "The specificity of 80.66% indicates that the model correctly identifies approximately 81% of the actual negative reviews. This metric is crucial when the cost of a false negative is high, as it ensures that negative classifications are reliable. The F1 score of 80.31% provides a balanced measure of the model's precision and recall, taking into account both false positives and false negatives.\n",
    "\n",
    "While these metrics demonstrate a decent overall performance, there is still room for improvement. Additionally, analyzing the types of reviews the model struggles with and investigating potential biases or limitations in the training data could provide valuable insights for future iterations."
   ]
  },
  {
   "cell_type": "markdown",
   "id": "fe4a1689-80df-45a9-b2e0-177c04ea4894",
   "metadata": {},
   "source": [
    "## Most Informative Features"
   ]
  },
  {
   "cell_type": "code",
   "execution_count": 19,
   "id": "048764ed-2987-4aac-ae26-ab92d613b260",
   "metadata": {
    "tags": []
   },
   "outputs": [
    {
     "name": "stdout",
     "output_type": "stream",
     "text": [
      "Top words indicating positive sentiment:\n",
      "gattaca: A review with this word is about 40.29 times more likely to be positive\n",
      "shrek: A review with this word is about 34.80 times more likely to be positive\n",
      "leila: A review with this word is about 29.30 times more likely to be positive\n",
      "mulan: A review with this word is about 28.85 times more likely to be positive\n",
      "mallory: A review with this word is about 26.56 times more likely to be positive\n",
      "lambeau: A review with this word is about 24.73 times more likely to be positive\n",
      "guido: A review with this word is about 23.81 times more likely to be positive\n",
      "sweetback: A review with this word is about 23.81 times more likely to be positive\n",
      "feihong: A review with this word is about 22.89 times more likely to be positive\n",
      "nello: A review with this word is about 22.89 times more likely to be positive\n",
      "pollock: A review with this word is about 21.98 times more likely to be positive\n",
      "beau: A review with this word is about 21.98 times more likely to be positive\n",
      "ordell: A review with this word is about 21.98 times more likely to be positive\n",
      "sethe: A review with this word is about 21.98 times more likely to be positive\n",
      "apostle: A review with this word is about 21.98 times more likely to be positive\n",
      "\n",
      "Top words indicating negative sentiment:\n",
      "mcgowan: A review with this word is about 20.75 times more likely to be negative\n",
      "cisco: A review with this word is about 20.75 times more likely to be negative\n",
      "godzilla: A review with this word is about 20.93 times more likely to be negative\n",
      "jericho: A review with this word is about 21.84 times more likely to be negative\n",
      "babysitter: A review with this word is about 22.93 times more likely to be negative\n",
      "bats: A review with this word is about 22.93 times more likely to be negative\n",
      "pokemon: A review with this word is about 22.93 times more likely to be negative\n",
      "bye: A review with this word is about 22.93 times more likely to be negative\n",
      "krippendorf: A review with this word is about 25.12 times more likely to be negative\n",
      "seagal: A review with this word is about 25.66 times more likely to be negative\n",
      "werewolf: A review with this word is about 28.39 times more likely to be negative\n",
      "sphere: A review with this word is about 29.48 times more likely to be negative\n",
      "wrestling: A review with this word is about 34.94 times more likely to be negative\n",
      "brenner: A review with this word is about 34.94 times more likely to be negative\n",
      "nbsp: A review with this word is about 64.43 times more likely to be negative\n"
     ]
    }
   ],
   "source": [
    "import numpy as np\n",
    "\n",
    "# Get the feature names from the vectorizer\n",
    "feature_names = np.array(vectorizer.get_feature_names_out())\n",
    "\n",
    "# Get the log probabilities of the features for each class\n",
    "feature_log_probs = sentiment_analysis_mnb.feature_log_prob_\n",
    "\n",
    "# Calculate the difference in log probabilities between classes\n",
    "# This will give us an idea of how informative each feature is for each class\n",
    "diff_log_probs = feature_log_probs[1] - feature_log_probs[0]\n",
    "\n",
    "# Sort the features by how informative they are\n",
    "sorted_indices = np.argsort(diff_log_probs)[::-1]\n",
    "\n",
    "# Display the top words most indicative of positive sentiment\n",
    "print(\"Top words indicating positive sentiment:\")\n",
    "for idx in sorted_indices[:15]:\n",
    "    # Calculate the probability ratio\n",
    "    prob_ratio = np.exp(np.abs(diff_log_probs[idx]))\n",
    "    print(f\"{feature_names[idx]}: A review with this word is about {prob_ratio:.2f} times more likely to be positive\")\n",
    "\n",
    "# Display the top words most indicative of negative sentiment\n",
    "print(\"\\nTop words indicating negative sentiment:\")\n",
    "for idx in sorted_indices[-15:]:\n",
    "    # Calculate the probability ratio\n",
    "    prob_ratio = np.exp(np.abs(diff_log_probs[idx]))\n",
    "    print(f\"{feature_names[idx]}: A review with this word is about {prob_ratio:.2f} times more likely to be negative\")"
   ]
  },
  {
   "cell_type": "markdown",
   "id": "9e487aa5-0b98-4f5b-89e4-af28a31a1910",
   "metadata": {},
   "source": [
    "- **Specific movie titles:** Some of the top words indicating positive sentiment are movie titles like \"Gattaca,\" \"Shrek,\" \"Mulan,\" and \"Pollock.\" This suggests that reviews mentioning these movies are more likely to have a positive sentiment. Similarly, movies like \"Godzilla\" and \"Pokemon\" appearing in the negative sentiment list indicate that reviews mentioning these movies tend to be more negative.\n",
    "- **Character names:** Several character names, such as \"Leila,\" \"Mallory,\" \"Guido,\" \"Ordell,\" and \"Sethe,\" appear in the positive sentiment list. This could mean that reviews that discuss these characters in a favorable light tend to be positive.\n",
    "- **Unusual words:** Some unexpected words like \"Lambeau,\" \"Sweetback,\" \"Feihong,\" and \"Nello\" are present in the positive sentiment list. These words may be related to specific movies, characters, or concepts that are associated with positive reviews.\n",
    "- **Generic words:** Words like \"Babysitter,\" \"Bats,\" \"Bye,\" and \"Wrestling\" appear in the negative sentiment list, indicating that reviews containing these words tend to express negative sentiment, possibly due to the context in which they are used.\n",
    "- **Unusual negative words:** Words like \"Krippendorf,\" \"Seagal,\" \"Werewolf,\" \"Sphere,\" and \"Brenner\" are present in the negative sentiment list. These may be related to specific movies, actors, or characters that are commonly associated with negative reviews.\n",
    "- **HTML entities:** The presence of \"nbsp\" (non-breaking space) in the negative sentiment list suggests that reviews containing this HTML entity are more likely to be negative. This could be related to the formatting or structure of the reviews.\n"
   ]
  },
  {
   "cell_type": "markdown",
   "id": "59af5088-730d-4277-9b96-ce3b9fbcab67",
   "metadata": {},
   "source": [
    "## Test Review"
   ]
  },
  {
   "cell_type": "code",
   "execution_count": 20,
   "id": "ab51fd70-d9d0-42f6-ac0a-fffc5a7cf71d",
   "metadata": {
    "tags": []
   },
   "outputs": [],
   "source": [
    "def test_review(review):\n",
    "    # Preprocess the custom review\n",
    "    preprocessed_custom_review = preprocess_text(review)  \n",
    "\n",
    "    # Convert the preprocessed review into a term-document matrix\n",
    "    X_custom = vectorizer.transform([' '.join(preprocessed_custom_review)])\n",
    "\n",
    "    # Predict the sentiment of the custom review\n",
    "    predicted_sentiment = sentiment_analysis_mnb.predict(X_custom)[0]\n",
    "\n",
    "    if predicted_sentiment == 1:\n",
    "        print(\"This review is predicted to be positive:\")\n",
    "    else:\n",
    "        print(\"This review is predicted to be negative:\")\n",
    "        \n",
    "    print(\"- The probability of this review to be positive is:\", round((sentiment_analysis_mnb.predict_proba(X_custom)[0][1])*100,2),\"%\")\n",
    "    print(\"- The probability of this review to be negative is:\", round((sentiment_analysis_mnb.predict_proba(X_custom)[0][0])*100,2),\"%\")"
   ]
  },
  {
   "cell_type": "code",
   "execution_count": 21,
   "id": "eec94701-1997-49bf-b585-2163d20af1a1",
   "metadata": {
    "tags": []
   },
   "outputs": [
    {
     "name": "stdout",
     "output_type": "stream",
     "text": [
      "This review is predicted to be positive:\n",
      "- The probability of this review to be positive is: 97.7 %\n",
      "- The probability of this review to be negative is: 2.3 %\n"
     ]
    }
   ],
   "source": [
    "testing_review = \"\"\" There were some things I didn't like about this film. Here's what I remember most\n",
    "strongly: a man in an ingeniously fake-looking polar bear costume (funnier than the\n",
    "\"bear\" from Hercules in New York); an extra with a less than believable laugh; an ex-drug\n",
    "addict martian with tics; child actors who recite their lines very slowly and carefully;\n",
    "a newspaper headline declaring that Santa has been \"kidnapped\", and a giant robot. The\n",
    "least appealing acting job in the film must be when Mother Claus and her elves have been\n",
    "\"frozen\" by the \"Martians'\" weapons. They seemed to display an exaggerated amount of\n",
    "fear. Perhaps this was the preferred acting style in the 1960's??” \"\"\"\n",
    "\n",
    "test_review(testing_review)"
   ]
  },
  {
   "cell_type": "markdown",
   "id": "16e682c1-efd8-434f-8d08-5756e26f4eda",
   "metadata": {},
   "source": [
    "This classification is not what one would expect, given the content of the review. The classification of this review as positive is inaccurate and seems to be a misclassification by the model.\n",
    "\n",
    "There could be several reasons why the classifier may not be performing as expected in this case:\n",
    "\n",
    "- **Training data:** The performance of a machine learning model heavily depends on the quality and representativeness of the training data. If the training data did not contain enough examples of reviews with similar language and context as the given review, the model may struggle to classify it correctly.\n",
    "- **Feature extraction:** The NaiveBayes Multinomial classifier relies on the presence of specific words or phrases to determine the sentiment. If the feature extraction process failed to capture the relevant negative sentiment words or phrases from the review, the model may have incorrectly interpreted it as positive.\n",
    "- **Context and sarcasm:** The review contains some sarcastic remarks, such as describing the \"ingeniously fake-looking polar bear costume\" as \"funnier than the 'bear' from Hercules in New York.\" The model may not have been able to detect the sarcasm and interpret the true negative sentiment behind these statements.\n",
    "- **Overfitting or underfitting:** If the model is either overfitted to the training data or underfitted (not complex enough to capture the nuances of the data), it may fail to generalize well to new, unseen examples like this review.\n",
    "\n",
    "To improve the performance of the classifier, we could consider techniques like incorporating context and sarcasm detection, and exploring more advanced models like deep learning architectures that can better capture the nuances of text data."
   ]
  },
  {
   "cell_type": "markdown",
   "id": "35c5617e-f6e1-4fd3-9607-a2035a7e0c1a",
   "metadata": {},
   "source": [
    "# Conclusions"
   ]
  },
  {
   "cell_type": "markdown",
   "id": "e63c94fe-1008-42b4-be89-0bb6212d4485",
   "metadata": {
    "tags": []
   },
   "source": [
    "In this project, we successfully developed a sentiment analysis model for classifying movie reviews as positive or negative. We leveraged the Multinomial Naive Bayes algorithm, a popular choice for text classification tasks, and achieved reasonable performance metrics.\n",
    "\n",
    "The model achieved an accuracy of 80%, indicating that it correctly classified 8 out of 10 reviews on average. Additionally, we evaluated other metrics such as precision, recall, specificity, and F1-score to gain a more comprehensive understanding of the model's performance.\n",
    "\n",
    "One of the key strengths of our approach was the preprocessing pipeline, which included tokenization, punctuation removal, lowercasing, stop word removal, and filtering out short tokens. This step helped to transform the raw text data into a more structured and meaningful representation suitable for machine learning algorithms.\n",
    "\n",
    "Furthermore, we explored the most informative features for positive and negative sentiment classification. By examining the words with the highest log probability ratios, we gained insights into the language patterns and specific terms that strongly indicated positive or negative sentiment in the movie reviews.\n",
    "\n",
    "However, it is important to note that our model, like any machine learning system, has limitations and areas for improvement. For instance, the test review example demonstrated a case where the model misclassified a negative review as positive, highlighting the need for more robust handling of context, sarcasm, and nuanced language.\n",
    "\n",
    "Future work could involve exploring more advanced natural language processing techniques, such as deep learning models like recurrent neural networks or transformers, which have shown promising results in sentiment analysis tasks. Additionally, incorporating external knowledge sources or domain-specific vocabularies could potentially enhance the model's understanding of the movie review context.\n",
    "\n",
    "Overall, this project served as a practical introduction to the field of sentiment analysis and demonstrated the potential of machine learning techniques in understanding and classifying textual data based on sentiment. The insights gained from this project can be valuable for various applications, such as movie recommendation systems, brand monitoring, and customer feedback analysis."
   ]
  },
  {
   "cell_type": "markdown",
   "id": "56cd9a15-efd7-4c93-9913-173d83141784",
   "metadata": {},
   "source": [
    "# References"
   ]
  },
  {
   "cell_type": "markdown",
   "id": "e3371cc3-c51e-48c4-83a9-01e98a498df6",
   "metadata": {},
   "source": [
    "- https://scienceprog.com/simple-explanation-of-naive-bayes-classifier/\n",
    "- https://blog.chapagain.com.np/python-nltk-sentiment-analysis-on-movie-reviews-natural-language-processing-nlp/\n",
    "- https://spotintelligence.com/2022/12/21/nltk-preprocessing-pipeline/\n",
    "- https://scikit-learn.org/stable/modules/generated/sklearn.naive_bayes.MultinomialNB.html"
   ]
  }
 ],
 "metadata": {
  "kernelspec": {
   "display_name": "Python 3 (ipykernel)",
   "language": "python",
   "name": "python3"
  },
  "language_info": {
   "codemirror_mode": {
    "name": "ipython",
    "version": 3
   },
   "file_extension": ".py",
   "mimetype": "text/x-python",
   "name": "python",
   "nbconvert_exporter": "python",
   "pygments_lexer": "ipython3",
   "version": "3.11.4"
  },
  "toc-autonumbering": true
 },
 "nbformat": 4,
 "nbformat_minor": 5
}
