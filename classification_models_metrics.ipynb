{
 "cells": [
  {
   "cell_type": "markdown",
   "id": "e7860efe-8972-4e01-bb7e-7253b2a63592",
   "metadata": {
    "tags": []
   },
   "source": [
    "# Evaluating Classification Models: Custom Metrics and Scikit-Learn Functions"
   ]
  },
  {
   "cell_type": "markdown",
   "id": "8a7ee531-d823-4d92-9737-479ecc889a05",
   "metadata": {},
   "source": [
    "# Introduction"
   ]
  },
  {
   "cell_type": "markdown",
   "id": "fcc33667-e2bf-40eb-b583-b46d7d0c0461",
   "metadata": {},
   "source": [
    "The task of evaluating the performance of classification models is crucial in machine learning, as it enables us to assess the effectiveness of predictive algorithms. In this assignment, we will delve into the intricacies of model evaluation by combining custom Python code functions with pre-built functions from the scikit-learn library. Through this process, we aim to gain a comprehensive understanding of various performance metrics and visualization techniques essential for assessing the accuracy and reliability of binary classification models.\n",
    "\n",
    "The dataset provided consists of approximately 180 labeled binary observations, where each observation is categorized as either '0' or '1'. By leveraging Python's Pandas library, we will compute a confusion matrix to understand the distribution of true positives, false positives, true negatives, and false negatives. Subsequently, we will develop custom Python functions to calculate essential metrics such as accuracy, precision, sensitivity, specificity, and F1 Score, providing a hands-on approach to evaluating model performance. Additionally, we will explore the construction of ROC curves and computation of AUC, comparing our custom implementations with the capabilities offered by scikit-learn. Through these analyses, we aim to gain insight into the strengths and limitations of different evaluation methodologies, ultimately enhancing our proficiency in classification model assessment."
   ]
  },
  {
   "cell_type": "code",
   "execution_count": 1,
   "id": "db5f33a6-5771-4eb9-9286-7f966c6eca8d",
   "metadata": {
    "tags": []
   },
   "outputs": [
    {
     "data": {
      "text/html": [
       "<div>\n",
       "<style scoped>\n",
       "    .dataframe tbody tr th:only-of-type {\n",
       "        vertical-align: middle;\n",
       "    }\n",
       "\n",
       "    .dataframe tbody tr th {\n",
       "        vertical-align: top;\n",
       "    }\n",
       "\n",
       "    .dataframe thead th {\n",
       "        text-align: right;\n",
       "    }\n",
       "</style>\n",
       "<table border=\"1\" class=\"dataframe\">\n",
       "  <thead>\n",
       "    <tr style=\"text-align: right;\">\n",
       "      <th></th>\n",
       "      <th>pregnant</th>\n",
       "      <th>glucose</th>\n",
       "      <th>diastolic</th>\n",
       "      <th>skinfold</th>\n",
       "      <th>insulin</th>\n",
       "      <th>bmi</th>\n",
       "      <th>pedigree</th>\n",
       "      <th>age</th>\n",
       "      <th>class</th>\n",
       "      <th>scored.class</th>\n",
       "      <th>scored.probability</th>\n",
       "    </tr>\n",
       "  </thead>\n",
       "  <tbody>\n",
       "    <tr>\n",
       "      <th>0</th>\n",
       "      <td>7</td>\n",
       "      <td>124</td>\n",
       "      <td>70</td>\n",
       "      <td>33</td>\n",
       "      <td>215</td>\n",
       "      <td>25.5</td>\n",
       "      <td>0.161</td>\n",
       "      <td>37</td>\n",
       "      <td>0</td>\n",
       "      <td>0</td>\n",
       "      <td>0.328452</td>\n",
       "    </tr>\n",
       "    <tr>\n",
       "      <th>1</th>\n",
       "      <td>2</td>\n",
       "      <td>122</td>\n",
       "      <td>76</td>\n",
       "      <td>27</td>\n",
       "      <td>200</td>\n",
       "      <td>35.9</td>\n",
       "      <td>0.483</td>\n",
       "      <td>26</td>\n",
       "      <td>0</td>\n",
       "      <td>0</td>\n",
       "      <td>0.273190</td>\n",
       "    </tr>\n",
       "    <tr>\n",
       "      <th>2</th>\n",
       "      <td>3</td>\n",
       "      <td>107</td>\n",
       "      <td>62</td>\n",
       "      <td>13</td>\n",
       "      <td>48</td>\n",
       "      <td>22.9</td>\n",
       "      <td>0.678</td>\n",
       "      <td>23</td>\n",
       "      <td>1</td>\n",
       "      <td>0</td>\n",
       "      <td>0.109660</td>\n",
       "    </tr>\n",
       "    <tr>\n",
       "      <th>3</th>\n",
       "      <td>1</td>\n",
       "      <td>91</td>\n",
       "      <td>64</td>\n",
       "      <td>24</td>\n",
       "      <td>0</td>\n",
       "      <td>29.2</td>\n",
       "      <td>0.192</td>\n",
       "      <td>21</td>\n",
       "      <td>0</td>\n",
       "      <td>0</td>\n",
       "      <td>0.055998</td>\n",
       "    </tr>\n",
       "    <tr>\n",
       "      <th>4</th>\n",
       "      <td>4</td>\n",
       "      <td>83</td>\n",
       "      <td>86</td>\n",
       "      <td>19</td>\n",
       "      <td>0</td>\n",
       "      <td>29.3</td>\n",
       "      <td>0.317</td>\n",
       "      <td>34</td>\n",
       "      <td>0</td>\n",
       "      <td>0</td>\n",
       "      <td>0.100491</td>\n",
       "    </tr>\n",
       "    <tr>\n",
       "      <th>...</th>\n",
       "      <td>...</td>\n",
       "      <td>...</td>\n",
       "      <td>...</td>\n",
       "      <td>...</td>\n",
       "      <td>...</td>\n",
       "      <td>...</td>\n",
       "      <td>...</td>\n",
       "      <td>...</td>\n",
       "      <td>...</td>\n",
       "      <td>...</td>\n",
       "      <td>...</td>\n",
       "    </tr>\n",
       "    <tr>\n",
       "      <th>176</th>\n",
       "      <td>5</td>\n",
       "      <td>123</td>\n",
       "      <td>74</td>\n",
       "      <td>40</td>\n",
       "      <td>77</td>\n",
       "      <td>34.1</td>\n",
       "      <td>0.269</td>\n",
       "      <td>28</td>\n",
       "      <td>0</td>\n",
       "      <td>0</td>\n",
       "      <td>0.311420</td>\n",
       "    </tr>\n",
       "    <tr>\n",
       "      <th>177</th>\n",
       "      <td>4</td>\n",
       "      <td>146</td>\n",
       "      <td>78</td>\n",
       "      <td>0</td>\n",
       "      <td>0</td>\n",
       "      <td>38.5</td>\n",
       "      <td>0.520</td>\n",
       "      <td>67</td>\n",
       "      <td>1</td>\n",
       "      <td>1</td>\n",
       "      <td>0.707210</td>\n",
       "    </tr>\n",
       "    <tr>\n",
       "      <th>178</th>\n",
       "      <td>8</td>\n",
       "      <td>188</td>\n",
       "      <td>78</td>\n",
       "      <td>0</td>\n",
       "      <td>0</td>\n",
       "      <td>47.9</td>\n",
       "      <td>0.137</td>\n",
       "      <td>43</td>\n",
       "      <td>1</td>\n",
       "      <td>1</td>\n",
       "      <td>0.888277</td>\n",
       "    </tr>\n",
       "    <tr>\n",
       "      <th>179</th>\n",
       "      <td>9</td>\n",
       "      <td>120</td>\n",
       "      <td>72</td>\n",
       "      <td>22</td>\n",
       "      <td>56</td>\n",
       "      <td>20.8</td>\n",
       "      <td>0.733</td>\n",
       "      <td>48</td>\n",
       "      <td>0</td>\n",
       "      <td>0</td>\n",
       "      <td>0.422468</td>\n",
       "    </tr>\n",
       "    <tr>\n",
       "      <th>180</th>\n",
       "      <td>0</td>\n",
       "      <td>102</td>\n",
       "      <td>86</td>\n",
       "      <td>17</td>\n",
       "      <td>105</td>\n",
       "      <td>29.3</td>\n",
       "      <td>0.695</td>\n",
       "      <td>27</td>\n",
       "      <td>0</td>\n",
       "      <td>0</td>\n",
       "      <td>0.119981</td>\n",
       "    </tr>\n",
       "  </tbody>\n",
       "</table>\n",
       "<p>181 rows × 11 columns</p>\n",
       "</div>"
      ],
      "text/plain": [
       "     pregnant  glucose  diastolic  skinfold  insulin   bmi  pedigree  age  \\\n",
       "0           7      124         70        33      215  25.5     0.161   37   \n",
       "1           2      122         76        27      200  35.9     0.483   26   \n",
       "2           3      107         62        13       48  22.9     0.678   23   \n",
       "3           1       91         64        24        0  29.2     0.192   21   \n",
       "4           4       83         86        19        0  29.3     0.317   34   \n",
       "..        ...      ...        ...       ...      ...   ...       ...  ...   \n",
       "176         5      123         74        40       77  34.1     0.269   28   \n",
       "177         4      146         78         0        0  38.5     0.520   67   \n",
       "178         8      188         78         0        0  47.9     0.137   43   \n",
       "179         9      120         72        22       56  20.8     0.733   48   \n",
       "180         0      102         86        17      105  29.3     0.695   27   \n",
       "\n",
       "     class  scored.class  scored.probability  \n",
       "0        0             0            0.328452  \n",
       "1        0             0            0.273190  \n",
       "2        1             0            0.109660  \n",
       "3        0             0            0.055998  \n",
       "4        0             0            0.100491  \n",
       "..     ...           ...                 ...  \n",
       "176      0             0            0.311420  \n",
       "177      1             1            0.707210  \n",
       "178      1             1            0.888277  \n",
       "179      0             0            0.422468  \n",
       "180      0             0            0.119981  \n",
       "\n",
       "[181 rows x 11 columns]"
      ]
     },
     "execution_count": 1,
     "metadata": {},
     "output_type": "execute_result"
    }
   ],
   "source": [
    "# Import packages\n",
    "import numpy as np\n",
    "import pandas as pd\n",
    "import seaborn as sns\n",
    "import matplotlib.pyplot as plt\n",
    "\n",
    "# Replace the URL with the direct link to the raw csv file\n",
    "url = \"https://raw.githubusercontent.com/Juanfra21/data-science/main/M5_Data.csv\"\n",
    "\n",
    "# Load data from the csv file into a pandas DataFrame\n",
    "df = pd.read_csv(url)\n",
    "\n",
    "# Remove leading and trailing spaces from column names\n",
    "df.columns = df.columns.str.strip()\n",
    "\n",
    "# Print the table\n",
    "df"
   ]
  },
  {
   "cell_type": "markdown",
   "id": "8da0dbf0-1d05-4fba-9a5b-fcd424ae1e36",
   "metadata": {},
   "source": [
    "# Exploring the model results"
   ]
  },
  {
   "cell_type": "markdown",
   "id": "5e00c4fb-903e-41d8-980f-05cd7fb7167a",
   "metadata": {},
   "source": [
    "## Crosstab analysis"
   ]
  },
  {
   "cell_type": "markdown",
   "id": "a53da821-2729-47c6-af38-cffe1bd61c87",
   "metadata": {},
   "source": [
    "We will begin by analyzing the columns 'class' and 'scored.class' using the value_counts() function to examine their composition and discern the disparities between actual and predicted outcomes."
   ]
  },
  {
   "cell_type": "code",
   "execution_count": 2,
   "id": "b2c39a8b-c21d-4e57-b80e-ce9297658aa3",
   "metadata": {},
   "outputs": [
    {
     "data": {
      "text/plain": [
       "0    124\n",
       "1     57\n",
       "Name: class, dtype: int64"
      ]
     },
     "execution_count": 2,
     "metadata": {},
     "output_type": "execute_result"
    }
   ],
   "source": [
    "df['class'].value_counts()"
   ]
  },
  {
   "cell_type": "code",
   "execution_count": 3,
   "id": "97767c0e",
   "metadata": {},
   "outputs": [
    {
     "data": {
      "text/plain": [
       "0    149\n",
       "1     32\n",
       "Name: scored.class, dtype: int64"
      ]
     },
     "execution_count": 3,
     "metadata": {},
     "output_type": "execute_result"
    }
   ],
   "source": [
    "df['scored.class'].value_counts()"
   ]
  },
  {
   "cell_type": "code",
   "execution_count": 4,
   "id": "f90c3879",
   "metadata": {},
   "outputs": [
    {
     "data": {
      "text/html": [
       "<div>\n",
       "<style scoped>\n",
       "    .dataframe tbody tr th:only-of-type {\n",
       "        vertical-align: middle;\n",
       "    }\n",
       "\n",
       "    .dataframe tbody tr th {\n",
       "        vertical-align: top;\n",
       "    }\n",
       "\n",
       "    .dataframe thead th {\n",
       "        text-align: right;\n",
       "    }\n",
       "</style>\n",
       "<table border=\"1\" class=\"dataframe\">\n",
       "  <thead>\n",
       "    <tr style=\"text-align: right;\">\n",
       "      <th>scored.class</th>\n",
       "      <th>0</th>\n",
       "      <th>1</th>\n",
       "    </tr>\n",
       "    <tr>\n",
       "      <th>class</th>\n",
       "      <th></th>\n",
       "      <th></th>\n",
       "    </tr>\n",
       "  </thead>\n",
       "  <tbody>\n",
       "    <tr>\n",
       "      <th>0</th>\n",
       "      <td>119</td>\n",
       "      <td>5</td>\n",
       "    </tr>\n",
       "    <tr>\n",
       "      <th>1</th>\n",
       "      <td>30</td>\n",
       "      <td>27</td>\n",
       "    </tr>\n",
       "  </tbody>\n",
       "</table>\n",
       "</div>"
      ],
      "text/plain": [
       "scored.class    0   1\n",
       "class                \n",
       "0             119   5\n",
       "1              30  27"
      ]
     },
     "execution_count": 4,
     "metadata": {},
     "output_type": "execute_result"
    }
   ],
   "source": [
    "# Checking cross tabulation of actual and predicted classification for the observations\n",
    "cross_tab = pd.crosstab(df['class'], df['scored.class'], dropna = False)\n",
    "\n",
    "# Print the cross tabulation result\n",
    "cross_tab"
   ]
  },
  {
   "cell_type": "markdown",
   "id": "c5ae603c-cf3d-4e3c-9a82-0a3f3860debc",
   "metadata": {},
   "source": [
    "\n",
    "The analysis of the 'class' and 'scored.class' columns reveals notable differences in the distribution of actual and predicted classifications within the dataset. For the 'class' column, the majority of observations are labeled as '0', comprising 124 instances, while '1' represents a smaller portion with 57 instances. However, upon inspecting the 'scored.class' column, the distribution differs significantly, with '0' accounting for 149 instances and '1' only 32 instances. This discrepancy highlights potential disparities between the model's predictions and the actual classifications. Further examination through cross-tabulation confirms this observation, showing that the model correctly predicted a substantial portion of '0' classifications (119 out of 124), but had lower accuracy in predicting '1' classifications, correctly identifying only 27 out of 57 instances. These insights underscore the importance of scrutinizing model performance metrics to identify areas for improvement and ensure the reliability of classification outcomes."
   ]
  },
  {
   "cell_type": "markdown",
   "id": "ae0543a5-26be-4dc8-8d62-8bd93903e578",
   "metadata": {},
   "source": [
    "## Extracting the values"
   ]
  },
  {
   "cell_type": "markdown",
   "id": "fb5a999d-8942-4689-a2b3-6dc673b8a70e",
   "metadata": {},
   "source": [
    "We will now store these results in four variables: true negatives, true positives, false positives, and false negatives"
   ]
  },
  {
   "cell_type": "code",
   "execution_count": 5,
   "id": "a11ae831",
   "metadata": {},
   "outputs": [
    {
     "name": "stdout",
     "output_type": "stream",
     "text": [
      "True Negatives: 119\n",
      "False Negatives: 30\n",
      "True Positives: 27\n",
      "False Positives: 5\n"
     ]
    }
   ],
   "source": [
    "# Extracting individual confusion matrix\n",
    "true_negatives = cross_tab.loc[0,0]\n",
    "false_positives = cross_tab.loc[0,1]\n",
    "false_negatives = cross_tab.loc[1,0]\n",
    "true_positives = cross_tab.loc[1,1]\n",
    "\n",
    "# Printing individual confusion matrix\n",
    "print(\"True Negatives:\", true_negatives)\n",
    "print(\"False Negatives:\", false_negatives)\n",
    "print(\"True Positives:\", true_positives)\n",
    "print(\"False Positives:\", false_positives)"
   ]
  },
  {
   "cell_type": "markdown",
   "id": "8ede2ad5-b892-469e-86b0-10c04b383def",
   "metadata": {},
   "source": [
    "# Metrics"
   ]
  },
  {
   "cell_type": "markdown",
   "id": "7a205507-9e58-409e-b410-e8773d1b6e40",
   "metadata": {},
   "source": [
    "## Accuracy"
   ]
  },
  {
   "cell_type": "markdown",
   "id": "52ff0c4e-cde7-400f-a5e1-3412040a6ce3",
   "metadata": {},
   "source": [
    "Let's start by calculating accuracy, which is the number of correct predictions made by the model out of all predictions"
   ]
  },
  {
   "cell_type": "code",
   "execution_count": 6,
   "id": "9fa9abe5-dd76-493d-8c38-2d28bbfffd2f",
   "metadata": {
    "tags": []
   },
   "outputs": [],
   "source": [
    "# Define the function\n",
    "def accuracy_calculation(actual, predicted):\n",
    "    \n",
    "    # Create Crosstable with the actual and predicted values\n",
    "    cross_tab = pd.crosstab(actual, predicted, dropna = False)\n",
    "    \n",
    "    # Gather the data for the calculation\n",
    "    true_negatives = cross_tab.loc[0,0]\n",
    "    false_positives = cross_tab.loc[0,1]\n",
    "    false_negatives = cross_tab.loc[1,0]\n",
    "    true_positives = cross_tab.loc[1,1]\n",
    "    \n",
    "    # Calculate the metric\n",
    "    accuracy = (true_positives + true_negatives)/(true_positives + true_negatives + false_positives + false_negatives)\n",
    "    \n",
    "    # Return the metric\n",
    "    return accuracy"
   ]
  },
  {
   "cell_type": "markdown",
   "id": "2b6f854c-9f91-4686-9f21-3de15faa1a5a",
   "metadata": {},
   "source": [
    "## Precision"
   ]
  },
  {
   "cell_type": "markdown",
   "id": "7a0c3cfb-6c95-486f-9281-36b39400de09",
   "metadata": {},
   "source": [
    "Let's calculate the metric for precision, which represents the number of true positive predictions made by the model divided by the total number of positive predictions"
   ]
  },
  {
   "cell_type": "code",
   "execution_count": 7,
   "id": "fa60d5da-0c56-4e2a-9915-522aa1227543",
   "metadata": {
    "tags": []
   },
   "outputs": [],
   "source": [
    "# Define the function\n",
    "def precision_calculation(actual, predicted):\n",
    "    \n",
    "    # Create Crosstable with the actual and predicted values\n",
    "    cross_tab = pd.crosstab(actual, predicted, dropna = False)\n",
    "    \n",
    "    # Gather the data for the calculation\n",
    "    true_negatives = cross_tab.loc[0,0]\n",
    "    false_positives = cross_tab.loc[0,1]\n",
    "    false_negatives = cross_tab.loc[1,0]\n",
    "    true_positives = cross_tab.loc[1,1]\n",
    "    \n",
    "    # Calculate the metric    \n",
    "    precision = (true_positives)/(true_positives + false_positives)\n",
    "    \n",
    "    # Return the metric\n",
    "    return precision"
   ]
  },
  {
   "cell_type": "markdown",
   "id": "65f5af10-0f03-409a-bcd5-5e1b5ceb8cba",
   "metadata": {},
   "source": [
    "## Sensitivity or Recall"
   ]
  },
  {
   "cell_type": "markdown",
   "id": "851659e1-6808-4353-97e2-946ff49380fc",
   "metadata": {},
   "source": [
    "Now, the calculation for sensitivity, also known as recall, which quantifies the proportion of true positive predictions made by the model relative to all actual positive instances."
   ]
  },
  {
   "cell_type": "code",
   "execution_count": 8,
   "id": "44d2b253-c588-45c1-9ae4-afcef334d423",
   "metadata": {
    "tags": []
   },
   "outputs": [],
   "source": [
    "# Define the function\n",
    "def sensitivity_calculation(actual, predicted):\n",
    "    \n",
    "    # Create Crosstable with the actual and predicted values\n",
    "    cross_tab = pd.crosstab(actual, predicted, dropna = False)\n",
    "    \n",
    "    # Gather the data for the calculation\n",
    "    true_negatives = cross_tab.loc[0,0]\n",
    "    false_positives = cross_tab.loc[0,1]\n",
    "    false_negatives = cross_tab.loc[1,0]\n",
    "    true_positives = cross_tab.loc[1,1]\n",
    "    \n",
    "    # Calculate the metric    \n",
    "    sensitivity = (true_positives)/(true_positives + false_negatives)\n",
    "    \n",
    "    # Return the metric\n",
    "    return sensitivity"
   ]
  },
  {
   "cell_type": "markdown",
   "id": "0a9e2483-d839-425e-b5ae-091b3e5e6440",
   "metadata": {},
   "source": [
    "## Specificity"
   ]
  },
  {
   "cell_type": "markdown",
   "id": "1084a59e-c755-4a01-af5e-408faf5ab7e8",
   "metadata": {},
   "source": [
    "Next, let's compute specificity, which measures the ratio of true negative predictions made by the model to the total number of actual negative instances"
   ]
  },
  {
   "cell_type": "code",
   "execution_count": 9,
   "id": "1c42a8c2-ee9b-4e8a-995a-8fe87f7da729",
   "metadata": {
    "tags": []
   },
   "outputs": [],
   "source": [
    "# Define the function\n",
    "def specificity_calculation(actual, predicted):\n",
    "    \n",
    "    # Create Crosstable with the actual and predicted values\n",
    "    cross_tab = pd.crosstab(actual, predicted, dropna = False)\n",
    "    \n",
    "    # Gather the data for the calculation\n",
    "    true_negatives = cross_tab.loc[0,0]\n",
    "    false_positives = cross_tab.loc[0,1]\n",
    "    false_negatives = cross_tab.loc[1,0]\n",
    "    true_positives = cross_tab.loc[1,1]\n",
    "    \n",
    "    # Calculate the metric  \n",
    "    specificity = (true_negatives)/(true_negatives + false_positives)\n",
    "    \n",
    "    # Return the metric\n",
    "    return specificity"
   ]
  },
  {
   "cell_type": "markdown",
   "id": "547f3675-709d-4a36-940c-9bcf3c6ce84d",
   "metadata": {},
   "source": [
    "## F1 score"
   ]
  },
  {
   "cell_type": "markdown",
   "id": "03d9f192-de39-4084-bd6d-ef1e02197307",
   "metadata": {},
   "source": [
    "Now, F1 Score, a metric that represents the harmonic mean of precision and recall, providing a comprehensive evaluation of a classification model's performance by considering both false positives and false negatives"
   ]
  },
  {
   "cell_type": "code",
   "execution_count": 10,
   "id": "ed60e078-548d-4089-8d2e-ce5c33c5990b",
   "metadata": {
    "tags": []
   },
   "outputs": [],
   "source": [
    "# Define the function\n",
    "def f1_score_calculation(actual, predicted):\n",
    "    \n",
    "    # Create Crosstable with the actual and predicted values\n",
    "    cross_tab = pd.crosstab(actual, predicted, dropna = False)\n",
    "    \n",
    "    # Gather the data for the calculation\n",
    "    true_negatives = cross_tab.loc[0,0]\n",
    "    false_positives = cross_tab.loc[0,1]\n",
    "    false_negatives = cross_tab.loc[1,0]\n",
    "    true_positives = cross_tab.loc[1,1]\n",
    "    \n",
    "    # Calculate the metric\n",
    "    precision = (true_positives)/(true_positives + false_positives)\n",
    "    sensitivity = (true_positives)/(true_positives + false_negatives)\n",
    "    f1_score = 2*((precision * sensitivity)/(precision + sensitivity))\n",
    "    \n",
    "    # Return the metric\n",
    "    return f1_score"
   ]
  },
  {
   "cell_type": "markdown",
   "id": "af00d5fc-124e-42e7-9805-d4b3f58da6ce",
   "metadata": {},
   "source": [
    "## ROC curve and AUC"
   ]
  },
  {
   "cell_type": "markdown",
   "id": "5908029c-dbaf-460f-80e6-ca0be2f53852",
   "metadata": {},
   "source": [
    "Now, we will plot the Receiver Operating Characteristic (ROC) curve and the calculate the Area Under the Curve (AUC) metric. The ROC curve illustrates the trade-off between the true positive rate and the false positive rate across different classification thresholds, while the AUC quantifies the overall discriminative power of the model, with a higher value indicating better performance."
   ]
  },
  {
   "cell_type": "code",
   "execution_count": 11,
   "id": "41c80608-0df7-4517-ab91-39cb390872d3",
   "metadata": {
    "tags": []
   },
   "outputs": [
    {
     "data": {
      "image/png": "[encoded data removed]",
      "text/plain": [
       "<Figure size 800x600 with 1 Axes>"
      ]
     },
     "metadata": {},
     "output_type": "display_data"
    }
   ],
   "source": [
    "# Extracting necessary columns from DataFrame\n",
    "actual = df['class']\n",
    "predicted = df['scored.class']\n",
    "probabilities = df['scored.probability']\n",
    "\n",
    "# Sorting predictions based on probabilities\n",
    "sorted_predictions = sorted(zip(probabilities, actual), reverse=True)\n",
    "\n",
    "# Initializing lists for true positive rate, false positive rate, and area under curve with initial values 0\n",
    "tpr, fpr, auc = [0], [0], 0  \n",
    "\n",
    "# Total number of positives (actual)\n",
    "num_positive = sum(actual)\n",
    "\n",
    "# Total number of negatives (actual)\n",
    "num_negative = len(actual) - num_positive\n",
    "\n",
    "# Calculating TPR, FPR, and AUC\n",
    "for prob, true_label in sorted_predictions:\n",
    "    tpr.append(tpr[-1] + (true_label == 1) / num_positive)   # Appending tpr list with the cumulative sum of true positive labels\n",
    "    fpr.append(fpr[-1] + (true_label == 0) / num_negative)  # Appending fpr list with the cumulative sum of false positive labels\n",
    "    auc = auc + (tpr[-1] + tpr[-2]) / 2 * (fpr[-1] - fpr[-2])  # Calculating auc by summing the areas of trapezoids formed by adjacent points on the ROC curve\n",
    "\n",
    "\n",
    "# Plotting ROC curve\n",
    "plt.figure(figsize=(8, 6))\n",
    "plt.plot(fpr, tpr, color='blue', lw=2, label='ROC curve')\n",
    "plt.xlabel('False Positive Rate')\n",
    "plt.ylabel('True Positive Rate')\n",
    "plt.title('ROC Curve') \n",
    "plt.plot([0, 1], [0, 1], color='gray', linestyle='--')\n",
    "plt.legend(loc='lower right')\n",
    "plt.show()"
   ]
  },
  {
   "cell_type": "markdown",
   "id": "b1582633-ec10-4f14-9c12-1184fd306b80",
   "metadata": {},
   "source": [
    "As we can see, this ROC curve approaches the top-left of the plot, suggesting a well-performing model"
   ]
  },
  {
   "cell_type": "markdown",
   "id": "066190af-1a02-4d65-9f8f-5c237b086f83",
   "metadata": {},
   "source": [
    "## Results for metrics "
   ]
  },
  {
   "cell_type": "code",
   "execution_count": 12,
   "id": "f7704cd1-2eee-454c-b37b-0eb6cb548445",
   "metadata": {
    "scrolled": true,
    "tags": []
   },
   "outputs": [
    {
     "name": "stdout",
     "output_type": "stream",
     "text": [
      "The accuracy of the prediction is: 80.66 %\n",
      "The precision of the prediction is: 84.38 %\n",
      "The sensitivity of the prediction is: 47.37 %\n",
      "The specificity of the prediction is: 95.97 %\n",
      "The F1 score of the prediction is: 60.67 %\n",
      "The AUC is: 0.8503\n"
     ]
    }
   ],
   "source": [
    "# Use the functions\n",
    "accuracy = accuracy_calculation(df['class'], df['scored.class'])\n",
    "precision = precision_calculation(df['class'], df['scored.class'])\n",
    "sensitivity = sensitivity_calculation(df['class'], df['scored.class'])\n",
    "specificity = specificity_calculation(df['class'], df['scored.class'])\n",
    "f1_score = f1_score_calculation(df['class'], df['scored.class'])\n",
    "\n",
    "# Print the results\n",
    "print(\"The accuracy of the prediction is:\", round(accuracy*100,2), \"%\")\n",
    "print(\"The precision of the prediction is:\", round(precision*100,2), \"%\")\n",
    "print(\"The sensitivity of the prediction is:\", round(sensitivity*100,2), \"%\")\n",
    "print(\"The specificity of the prediction is:\", round(specificity*100,2), \"%\")\n",
    "print(\"The F1 score of the prediction is:\", round(f1_score*100,2), \"%\")\n",
    "print(\"The AUC is:\", round(auc,4)) "
   ]
  },
  {
   "cell_type": "markdown",
   "id": "ad341b5a-5b06-45bd-af53-f4f941801231",
   "metadata": {},
   "source": [
    "These are the results for the metrics calculated by the functions defined by us. Now, we will use the scikit-learn library to calculate these same metrics using this package and compare them with our resulting metrics"
   ]
  },
  {
   "cell_type": "markdown",
   "id": "22c98ecf",
   "metadata": {},
   "source": [
    "# Metrics with scikit-learn library"
   ]
  },
  {
   "cell_type": "markdown",
   "id": "d96b49a7-d709-455f-bdd7-fdc81cca90b9",
   "metadata": {},
   "source": [
    "## Metrics"
   ]
  },
  {
   "cell_type": "code",
   "execution_count": 13,
   "id": "3204d20c",
   "metadata": {
    "scrolled": true
   },
   "outputs": [
    {
     "name": "stdout",
     "output_type": "stream",
     "text": [
      "Scikit-learn Accuracy: 80.66 %\n",
      "Scikit-learn Precision: 84.38 %\n",
      "Scikit-learn Sensitivity (Recall): 47.37 %\n",
      "Scikit-learn Specificity: 95.97 %\n",
      "Scikit-learn F1 Score: 60.67 %\n",
      "Scikit-learn Confusion Matrix:\n",
      " [[119   5]\n",
      " [ 30  27]]\n",
      "Scikit-learn Classification Report:\n",
      "               precision    recall  f1-score   support\n",
      "\n",
      "           0       0.80      0.96      0.87       124\n",
      "           1       0.84      0.47      0.61        57\n",
      "\n",
      "    accuracy                           0.81       181\n",
      "   macro avg       0.82      0.72      0.74       181\n",
      "weighted avg       0.81      0.81      0.79       181\n",
      "\n"
     ]
    }
   ],
   "source": [
    "# Import the necessary packages\n",
    "from sklearn.metrics import confusion_matrix, accuracy_score, precision_score, recall_score, f1_score, classification_report\n",
    "\n",
    "# Scikit-learn functions\n",
    "accuracy_sklearn = accuracy_score(actual, predicted)\n",
    "precision_sklearn = precision_score(actual, predicted)\n",
    "sensitivity_sklearn = recall_score(actual, predicted)  # Recall is equivalent to sensitivity\n",
    "specificity_sklearn = recall_score(actual, predicted, pos_label=0)  # Specificity is calculated for the negative class\n",
    "f1_score_sklearn = f1_score(actual, predicted)\n",
    "\n",
    "# Confusion matrix\n",
    "conf_matrix_sklearn = confusion_matrix(actual, predicted)\n",
    "\n",
    "# Classification report\n",
    "classification_report_sklearn = classification_report(actual, predicted)\n",
    "\n",
    "print(\"Scikit-learn Accuracy:\", round(accuracy_sklearn*100,2), \"%\")\n",
    "print(\"Scikit-learn Precision:\", round(precision_sklearn*100,2), \"%\")\n",
    "print(\"Scikit-learn Sensitivity (Recall):\", round(sensitivity_sklearn*100,2), \"%\")\n",
    "print(\"Scikit-learn Specificity:\", round(specificity_sklearn*100,2), \"%\")\n",
    "print(\"Scikit-learn F1 Score:\", round(f1_score_sklearn*100,2), \"%\")\n",
    "print(\"Scikit-learn Confusion Matrix:\\n\", conf_matrix_sklearn)\n",
    "print(\"Scikit-learn Classification Report:\\n\", classification_report_sklearn)"
   ]
  },
  {
   "cell_type": "markdown",
   "id": "a64e68ea",
   "metadata": {},
   "source": [
    "By way of comparison, in general, the results for the pre-built functions in the scikit-learn library match the results for the customized functions very well, indicating that both implementations are consistent and accurate, and provide a reliable evaluation metric for assessing the performance of a classification model on a given dataset."
   ]
  },
  {
   "cell_type": "markdown",
   "id": "017443b1",
   "metadata": {},
   "source": [
    "## ROC curve and AUC"
   ]
  },
  {
   "cell_type": "code",
   "execution_count": 14,
   "id": "a04c8cbc",
   "metadata": {},
   "outputs": [
    {
     "data": {
      "image/png": "[encoded data removed]",
      "text/plain": [
       "<Figure size 800x600 with 1 Axes>"
      ]
     },
     "metadata": {},
     "output_type": "display_data"
    },
    {
     "name": "stdout",
     "output_type": "stream",
     "text": [
      "AUC Score: 0.8503\n"
     ]
    }
   ],
   "source": [
    "# Import the necessary packages\n",
    "from sklearn.metrics import roc_curve, auc\n",
    "\n",
    "# Calculate ROC curve\n",
    "fpr, tpr, thresholds = roc_curve(actual, probabilities)\n",
    "\n",
    "# Plot ROC curve\n",
    "plt.figure(figsize=(8, 6))\n",
    "plt.plot(fpr, tpr, color='blue', lw=2, label='ROC curve')\n",
    "plt.plot([0, 1], [0, 1], color='gray', linestyle='--')\n",
    "plt.xlabel('False Positive Rate')\n",
    "plt.ylabel('True Positive Rate')\n",
    "plt.title('ROC Curve')\n",
    "plt.legend(loc='lower right')\n",
    "plt.show()\n",
    "\n",
    "# Calculate AUC\n",
    "auc_score = auc(fpr, tpr)\n",
    "print(\"AUC Score:\", round(auc_score,4))"
   ]
  },
  {
   "cell_type": "markdown",
   "id": "0726c7fb",
   "metadata": {},
   "source": [
    "The ROC curve and the AUC value are exactly the same as those calculated manually without using any packages."
   ]
  },
  {
   "cell_type": "markdown",
   "id": "ffe04b82-6dfe-4a30-bb78-cbaa88fbb9b3",
   "metadata": {},
   "source": [
    "# Conclusions"
   ]
  },
  {
   "cell_type": "markdown",
   "id": "d0301e0d-074f-4914-9296-c58ecae3f42d",
   "metadata": {},
   "source": [
    "When comparing the metrics obtained from the user-defined function with those from the scikit-learn package, we observed that they are exactly the same, including both ROC curves.\n",
    "\n",
    "Based on the metrics of the model:\n",
    "\n",
    "- **Accuracy (80.66%):** The model correctly predicts the class of 80.66% of the observations, indicating a reasonably good overall performance.\n",
    "- **Precision (84.38%):** Out of all the predicted positive instances, 84.38% are actually positive. This indicates that when the model predicts a positive outcome, it is often correct.\n",
    "- **Sensitivity (47.37%):** A sensitivity of 47.37% suggests that the model may not perform as well in identifying all positive cases.\n",
    "- **Specificity (95.97%):** A specificity of 95.97% suggests that the model is good at identifying negative cases.\n",
    "- **F1 Score (60.67%):** The F1 score of 60.67% indicates that the model achieves a balance between precision and sensitivity, although it may not excel in both metrics individually, specially given the low sensitivity score.\n",
    "- **AUC (0.8503):** The AUC of the ROC curve is 0.8503, which suggests that the model has a good ability to distinguish between positive and negative classes.\n",
    "\n",
    "Overall, the model seems to perform well in terms of specificity and precision, indicating that it is good at correctly identifying negative cases and making positive predictions that are likely to be correct. However, the sensitivity is relatively low, suggesting that the model may struggle with correctly identifying all positive cases."
   ]
  },
  {
   "cell_type": "markdown",
   "id": "a9a1071c-3ab2-4ba2-84d4-157a37db2440",
   "metadata": {},
   "source": [
    "# References"
   ]
  },
  {
   "cell_type": "markdown",
   "id": "0aa8fd3c-aa29-4350-b329-26a149a18068",
   "metadata": {},
   "source": [
    "- https://www.saedsayad.com/model_evaluation_c.htm\n",
    "- https://medium.com/@MohammedS/performance-metrics-for-classification-problems-in-machine-learning-part-i-b085d432082b"
   ]
  }
 ],
 "metadata": {
  "kernelspec": {
   "display_name": "Python 3 (ipykernel)",
   "language": "python",
   "name": "python3"
  },
  "language_info": {
   "codemirror_mode": {
    "name": "ipython",
    "version": 3
   },
   "file_extension": ".py",
   "mimetype": "text/x-python",
   "name": "python",
   "nbconvert_exporter": "python",
   "pygments_lexer": "ipython3",
   "version": "3.11.4"
  },
  "toc-autonumbering": true
 },
 "nbformat": 4,
 "nbformat_minor": 5
}
